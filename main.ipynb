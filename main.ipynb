{
 "cells": [
  {
   "metadata": {},
   "cell_type": "markdown",
   "source": [
    "# Check of the NOE quantitative reliability\n",
    "\n",
    "## Todo:\n",
    "- H1: the most intense peak per spin system is HA(i)\n",
    "- H2: the 2nd most intense is HA(i-1) and the 3rd is HN(i-1)\n",
    "- H3: the most intense inter-residual HN peak per spin system is HN(i-1)"
   ],
   "id": "d12617219775d259"
  },
  {
   "cell_type": "code",
   "id": "initial_id",
   "metadata": {
    "collapsed": true,
    "ExecuteTime": {
     "end_time": "2024-05-28T21:09:40.599318Z",
     "start_time": "2024-05-28T21:09:39.982131Z"
    }
   },
   "source": [
    "import pandas as pd\n",
    "import numpy as np\n",
    "\n",
    "from functions import *"
   ],
   "outputs": [],
   "execution_count": 1
  },
  {
   "metadata": {
    "ExecuteTime": {
     "end_time": "2024-05-28T21:09:40.610177Z",
     "start_time": "2024-05-28T21:09:40.604728Z"
    }
   },
   "cell_type": "code",
   "source": [
    "pdb_ids = ['2LEA', '2K52', '2LTM', '2KD0', '2LF2', ]\n",
    "pdb_id = pdb_ids[0]"
   ],
   "id": "1a813034c2ce08e6",
   "outputs": [],
   "execution_count": 2
  },
  {
   "metadata": {},
   "cell_type": "markdown",
   "source": "## Tidying up the table",
   "id": "3e70efe3ac3a1892"
  },
  {
   "metadata": {
    "ExecuteTime": {
     "end_time": "2024-05-28T21:09:40.635249Z",
     "start_time": "2024-05-28T21:09:40.613285Z"
    }
   },
   "cell_type": "code",
   "source": [
    "path = f'~/Sparky/Lists/{pdb_id}.list' # set correctly\n",
    "\n",
    "# Reading the data\n",
    "df = pd.read_csv(path, header=0, index_col=None, sep='\\s+')"
   ],
   "id": "ab98307e3ba4b099",
   "outputs": [],
   "execution_count": 3
  },
  {
   "metadata": {
    "ExecuteTime": {
     "end_time": "2024-05-28T21:09:40.695527Z",
     "start_time": "2024-05-28T21:09:40.640537Z"
    }
   },
   "cell_type": "code",
   "source": [
    "df = tidy_list(df)\n",
    "df_intra = df[~df.inter & df.noe.str.contains('HA')]\n",
    "df_inter = df[df.inter & df.noe.str.contains('HA')]\n",
    "\n",
    "n_anomalies = get_n_anomalies(df_strong=df_intra,\n",
    "                              df_weak=df_inter)"
   ],
   "id": "3364a6c3a5656c8d",
   "outputs": [
    {
     "name": "stdout",
     "output_type": "stream",
     "text": [
      "46\n",
      "There are some deviations, check those most prominent deviations closer:\n",
      "        height_noe_intra  height_noe_inter\n",
      "res                                       \n",
      "A57                 2905            5071.0\n",
      "A89                 4225            9204.0\n",
      "D18                 2494            7194.0\n",
      "D8                 14410           32052.0\n",
      "D80                 3434            6573.0\n",
      "E10                14086           19548.0\n",
      "E83                 5532           13671.0\n",
      "F56                 2881            4228.0\n",
      "F58                 2703            6544.0\n",
      "F61                 1983            3418.0\n",
      "G40                 4891            6003.0\n",
      "H62                 2809            3601.0\n",
      "I44                 2259            8803.0\n",
      "K16                 1130            3833.0\n",
      "K51                 3258            3595.0\n",
      "K64                 5124           13873.0\n",
      "L15                 1551            3180.0\n",
      "L20                 4660            7067.0\n",
      "L79                 3865            9412.0\n",
      "L84                 3059            6636.0\n",
      "M12                 3501            5587.0\n",
      "M88                 4840           16487.0\n",
      "N19ND2              1467            3251.0\n",
      "Q87                 4936           12636.0\n",
      "R38                 8573           15945.0\n",
      "R4                  8560           28898.0\n",
      "R46                 3860           15077.0\n",
      "R48                  768            3970.0\n",
      "R60                 1618            6010.0\n",
      "R85                 4257            9456.0\n",
      "R90                12893           65145.0\n",
      "R93                 7823           13397.0\n",
      "S14                  927            6895.0\n",
      "S25                 3659           18956.0\n",
      "T13                 2518            6319.0\n",
      "T50                 1105            3115.0\n",
      "V17                 4411            5177.0\n",
      "V39                 2411           12828.0\n",
      "V59                 1641            6568.0\n",
      "V78                 5207           28467.0\n",
      "V86                 4544            4790.0\n",
      "V9                 13984           34871.0\n",
      "Y2                  5887           13351.0\n",
      "Y22                  686            1518.0\n",
      "Y43                 3065            4285.0\n",
      "Y91                 4908            9894.0\n"
     ]
    }
   ],
   "execution_count": 4
  },
  {
   "metadata": {
    "ExecuteTime": {
     "end_time": "2024-05-28T21:14:45.174959Z",
     "start_time": "2024-05-28T21:14:45.146613Z"
    }
   },
   "cell_type": "code",
   "source": [
    "noes_strong = df_intra[['height', 'resnum', 'noe_resnum']].groupby(['resnum', 'noe_resnum'], as_index=True).max()\n",
    "noes_weak = df_inter[['height', 'resnum', 'noe_resnum']].groupby(['resnum', 'noe_resnum'], as_index=True).max()\n",
    "\n",
    "noe_compare = noes_strong.join(noes_weak, how='left',\n",
    "                               lsuffix='_noe_intra', rsuffix='_noe_inter').fillna(0)\n",
    "noe_compare"
   ],
   "id": "b9a5bfc6cab6f70",
   "outputs": [
    {
     "data": {
      "text/plain": [
       "                   height_noe_intra  height_noe_inter\n",
       "resnum noe_resnum                                    \n",
       "1      0                       1756               0.0\n",
       "2      0                       5887               0.0\n",
       "3      2                      11348            7299.0\n",
       "       3                      11348               0.0\n",
       "4      0                       8560               0.0\n",
       "...                             ...               ...\n",
       "92     2                        848               0.0\n",
       "       3                        457               0.0\n",
       "93     0                       7823               0.0\n",
       "97     0                       2611               0.0\n",
       "100    0                       2956               0.0\n",
       "\n",
       "[96 rows x 2 columns]"
      ],
      "text/html": [
       "<div>\n",
       "<style scoped>\n",
       "    .dataframe tbody tr th:only-of-type {\n",
       "        vertical-align: middle;\n",
       "    }\n",
       "\n",
       "    .dataframe tbody tr th {\n",
       "        vertical-align: top;\n",
       "    }\n",
       "\n",
       "    .dataframe thead th {\n",
       "        text-align: right;\n",
       "    }\n",
       "</style>\n",
       "<table border=\"1\" class=\"dataframe\">\n",
       "  <thead>\n",
       "    <tr style=\"text-align: right;\">\n",
       "      <th></th>\n",
       "      <th></th>\n",
       "      <th>height_noe_intra</th>\n",
       "      <th>height_noe_inter</th>\n",
       "    </tr>\n",
       "    <tr>\n",
       "      <th>resnum</th>\n",
       "      <th>noe_resnum</th>\n",
       "      <th></th>\n",
       "      <th></th>\n",
       "    </tr>\n",
       "  </thead>\n",
       "  <tbody>\n",
       "    <tr>\n",
       "      <th>1</th>\n",
       "      <th>0</th>\n",
       "      <td>1756</td>\n",
       "      <td>0.0</td>\n",
       "    </tr>\n",
       "    <tr>\n",
       "      <th>2</th>\n",
       "      <th>0</th>\n",
       "      <td>5887</td>\n",
       "      <td>0.0</td>\n",
       "    </tr>\n",
       "    <tr>\n",
       "      <th rowspan=\"2\" valign=\"top\">3</th>\n",
       "      <th>2</th>\n",
       "      <td>11348</td>\n",
       "      <td>7299.0</td>\n",
       "    </tr>\n",
       "    <tr>\n",
       "      <th>3</th>\n",
       "      <td>11348</td>\n",
       "      <td>0.0</td>\n",
       "    </tr>\n",
       "    <tr>\n",
       "      <th>4</th>\n",
       "      <th>0</th>\n",
       "      <td>8560</td>\n",
       "      <td>0.0</td>\n",
       "    </tr>\n",
       "    <tr>\n",
       "      <th>...</th>\n",
       "      <th>...</th>\n",
       "      <td>...</td>\n",
       "      <td>...</td>\n",
       "    </tr>\n",
       "    <tr>\n",
       "      <th rowspan=\"2\" valign=\"top\">92</th>\n",
       "      <th>2</th>\n",
       "      <td>848</td>\n",
       "      <td>0.0</td>\n",
       "    </tr>\n",
       "    <tr>\n",
       "      <th>3</th>\n",
       "      <td>457</td>\n",
       "      <td>0.0</td>\n",
       "    </tr>\n",
       "    <tr>\n",
       "      <th>93</th>\n",
       "      <th>0</th>\n",
       "      <td>7823</td>\n",
       "      <td>0.0</td>\n",
       "    </tr>\n",
       "    <tr>\n",
       "      <th>97</th>\n",
       "      <th>0</th>\n",
       "      <td>2611</td>\n",
       "      <td>0.0</td>\n",
       "    </tr>\n",
       "    <tr>\n",
       "      <th>100</th>\n",
       "      <th>0</th>\n",
       "      <td>2956</td>\n",
       "      <td>0.0</td>\n",
       "    </tr>\n",
       "  </tbody>\n",
       "</table>\n",
       "<p>96 rows × 2 columns</p>\n",
       "</div>"
      ]
     },
     "execution_count": 7,
     "metadata": {},
     "output_type": "execute_result"
    }
   ],
   "execution_count": 7
  },
  {
   "metadata": {},
   "cell_type": "code",
   "source": [
    "# optional: drop the residue types and leave only numbers\n",
    "\n",
    "df['resnum'] = df['res'].str.extract('(\\d+)', expand=False).fillna(0).astype(int)\n",
    "df['noe_resnum'] = df['noe'].str.extract('(\\d+)', expand=False).fillna(0).astype(int)\n",
    "df['inter'] = df.noe_res != df.res\n",
    "\n",
    "df"
   ],
   "id": "8c0c01267cff10f8",
   "outputs": [],
   "execution_count": null
  },
  {
   "metadata": {},
   "cell_type": "markdown",
   "source": "# How many $H^{i-1}_{\\alpha}$s are stronger than $H^{i}_{\\alpha}$?",
   "id": "d7d12db85d508980"
  },
  {
   "metadata": {},
   "cell_type": "code",
   "source": [
    "df_i_a = df[~df.inter & df.noe.str.contains('HA')]\n",
    "df_im1_a = df[df.inter & df.noe.str.contains('HA')]\n",
    "\n",
    "df_i_a"
   ],
   "id": "30cad8906c5ba72d",
   "outputs": [],
   "execution_count": null
  },
  {
   "metadata": {},
   "cell_type": "code",
   "source": "df_im1_a",
   "id": "dde17c62503235d9",
   "outputs": [],
   "execution_count": null
  },
  {
   "metadata": {},
   "cell_type": "code",
   "source": "get_n_deviations(df_i_a, df_im1_a)",
   "id": "b50542fa33f202f",
   "outputs": [],
   "execution_count": null
  },
  {
   "metadata": {},
   "cell_type": "markdown",
   "source": "",
   "id": "3469a793b4efacf6"
  },
  {
   "metadata": {},
   "cell_type": "markdown",
   "source": "Where is the maximum intensity of all interresidual $H_a$ crosspeaks is higher than residue's very own $H_a$?",
   "id": "3032da6cbf3f2f1a"
  },
  {
   "metadata": {},
   "cell_type": "markdown",
   "source": "",
   "id": "c443e6632114a6e2"
  }
 ],
 "metadata": {
  "kernelspec": {
   "display_name": "Python 3",
   "language": "python",
   "name": "python3"
  },
  "language_info": {
   "codemirror_mode": {
    "name": "ipython",
    "version": 2
   },
   "file_extension": ".py",
   "mimetype": "text/x-python",
   "name": "python",
   "nbconvert_exporter": "python",
   "pygments_lexer": "ipython2",
   "version": "2.7.6"
  }
 },
 "nbformat": 4,
 "nbformat_minor": 5
}
