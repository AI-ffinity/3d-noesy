{
 "cells": [
  {
   "metadata": {},
   "cell_type": "markdown",
   "source": "# Check of the NOE quantitative reliability",
   "id": "d12617219775d259"
  },
  {
   "cell_type": "code",
   "id": "initial_id",
   "metadata": {
    "collapsed": true,
    "ExecuteTime": {
     "end_time": "2024-05-30T15:43:09.687021Z",
     "start_time": "2024-05-30T15:43:09.681610Z"
    }
   },
   "source": [
    "import pandas as pd\n",
    "import numpy as np\n",
    "import seaborn as sns\n",
    "import matplotlib.pyplot as plt\n",
    "\n",
    "from functions import *\n",
    "\n",
    "plt.rcParams['figure.dpi'] = 300"
   ],
   "outputs": [],
   "execution_count": 1
  },
  {
   "metadata": {
    "ExecuteTime": {
     "end_time": "2024-05-30T15:43:09.703677Z",
     "start_time": "2024-05-30T15:43:09.692886Z"
    }
   },
   "cell_type": "code",
   "source": [
    "pdb_ids = ['2LEA', '2K52', '2LTM', '2KD0', '2LF2']\n",
    "pdb_id = pdb_ids[0]"
   ],
   "id": "1a813034c2ce08e6",
   "outputs": [],
   "execution_count": 2
  },
  {
   "metadata": {},
   "cell_type": "markdown",
   "source": "## Reading the individual 3D $^{15}N$-NOESY peak lists",
   "id": "3e70efe3ac3a1892"
  },
  {
   "metadata": {
    "ExecuteTime": {
     "end_time": "2024-05-30T15:43:09.818390Z",
     "start_time": "2024-05-30T15:43:09.708472Z"
    }
   },
   "cell_type": "code",
   "source": [
    "path = f'~/Sparky/Lists/{pdb_id}.list' # set correctly\n",
    "\n",
    "# Reading the data\n",
    "df = pd.read_csv(path, header=0, index_col=None, sep='\\s+')\n",
    "df = tidy_list(df)\n",
    "\n",
    "# Why do we have negative NOEs? \n",
    "# Anyway, the phase is not important for this analysis, just remove the sign\n",
    "df['height'] = np.abs(df.height)\n",
    "\n",
    "df"
   ],
   "id": "ab98307e3ba4b099",
   "outputs": [
    {
     "data": {
      "text/plain": [
       "       res     noe        N     Hn      H  height noe_res  inter  resnum  \\\n",
       "0       S1       H  116.240  8.111  8.111    1571      S1  False       1   \n",
       "1       S1      HA  116.240  8.111  4.389    1756      S1  False       1   \n",
       "2       S1     HB2  116.240  8.111  3.750    2457      S1  False       1   \n",
       "3       S1     HB3  116.240  8.111  3.750    2457      S1  False       1   \n",
       "4       S1     Y2H  116.240  8.111  8.062     554      Y2   True       1   \n",
       "...    ...     ...      ...    ...    ...     ...     ...    ...     ...   \n",
       "1789  S100  H99HB3  123.154  8.119  3.245    1350    S100  False     100   \n",
       "1790  S100       H  123.154  8.119  8.119   69967    S100  False     100   \n",
       "1791  S100      HA  123.154  8.119  4.258    2956    S100  False     100   \n",
       "1792  S100     HB2  123.154  8.119  3.849    3318    S100  False     100   \n",
       "1793  S100     HB3  123.154  8.119  3.849    3318    S100  False     100   \n",
       "\n",
       "      noe_resnum  res_diff atom_type atom_type_pos  \n",
       "0              1         0         H           H_i  \n",
       "1              1         0        HA          HA_i  \n",
       "2              1         0        HB          HB_i  \n",
       "3              1         0        HB          HB_i  \n",
       "4              2        -1         H         H_i+1  \n",
       "...          ...       ...       ...           ...  \n",
       "1789         100         0         H           H_i  \n",
       "1790         100         0         H           H_i  \n",
       "1791         100         0        HA          HA_i  \n",
       "1792         100         0        HB          HB_i  \n",
       "1793         100         0        HB          HB_i  \n",
       "\n",
       "[1794 rows x 13 columns]"
      ],
      "text/html": [
       "<div>\n",
       "<style scoped>\n",
       "    .dataframe tbody tr th:only-of-type {\n",
       "        vertical-align: middle;\n",
       "    }\n",
       "\n",
       "    .dataframe tbody tr th {\n",
       "        vertical-align: top;\n",
       "    }\n",
       "\n",
       "    .dataframe thead th {\n",
       "        text-align: right;\n",
       "    }\n",
       "</style>\n",
       "<table border=\"1\" class=\"dataframe\">\n",
       "  <thead>\n",
       "    <tr style=\"text-align: right;\">\n",
       "      <th></th>\n",
       "      <th>res</th>\n",
       "      <th>noe</th>\n",
       "      <th>N</th>\n",
       "      <th>Hn</th>\n",
       "      <th>H</th>\n",
       "      <th>height</th>\n",
       "      <th>noe_res</th>\n",
       "      <th>inter</th>\n",
       "      <th>resnum</th>\n",
       "      <th>noe_resnum</th>\n",
       "      <th>res_diff</th>\n",
       "      <th>atom_type</th>\n",
       "      <th>atom_type_pos</th>\n",
       "    </tr>\n",
       "  </thead>\n",
       "  <tbody>\n",
       "    <tr>\n",
       "      <th>0</th>\n",
       "      <td>S1</td>\n",
       "      <td>H</td>\n",
       "      <td>116.240</td>\n",
       "      <td>8.111</td>\n",
       "      <td>8.111</td>\n",
       "      <td>1571</td>\n",
       "      <td>S1</td>\n",
       "      <td>False</td>\n",
       "      <td>1</td>\n",
       "      <td>1</td>\n",
       "      <td>0</td>\n",
       "      <td>H</td>\n",
       "      <td>H_i</td>\n",
       "    </tr>\n",
       "    <tr>\n",
       "      <th>1</th>\n",
       "      <td>S1</td>\n",
       "      <td>HA</td>\n",
       "      <td>116.240</td>\n",
       "      <td>8.111</td>\n",
       "      <td>4.389</td>\n",
       "      <td>1756</td>\n",
       "      <td>S1</td>\n",
       "      <td>False</td>\n",
       "      <td>1</td>\n",
       "      <td>1</td>\n",
       "      <td>0</td>\n",
       "      <td>HA</td>\n",
       "      <td>HA_i</td>\n",
       "    </tr>\n",
       "    <tr>\n",
       "      <th>2</th>\n",
       "      <td>S1</td>\n",
       "      <td>HB2</td>\n",
       "      <td>116.240</td>\n",
       "      <td>8.111</td>\n",
       "      <td>3.750</td>\n",
       "      <td>2457</td>\n",
       "      <td>S1</td>\n",
       "      <td>False</td>\n",
       "      <td>1</td>\n",
       "      <td>1</td>\n",
       "      <td>0</td>\n",
       "      <td>HB</td>\n",
       "      <td>HB_i</td>\n",
       "    </tr>\n",
       "    <tr>\n",
       "      <th>3</th>\n",
       "      <td>S1</td>\n",
       "      <td>HB3</td>\n",
       "      <td>116.240</td>\n",
       "      <td>8.111</td>\n",
       "      <td>3.750</td>\n",
       "      <td>2457</td>\n",
       "      <td>S1</td>\n",
       "      <td>False</td>\n",
       "      <td>1</td>\n",
       "      <td>1</td>\n",
       "      <td>0</td>\n",
       "      <td>HB</td>\n",
       "      <td>HB_i</td>\n",
       "    </tr>\n",
       "    <tr>\n",
       "      <th>4</th>\n",
       "      <td>S1</td>\n",
       "      <td>Y2H</td>\n",
       "      <td>116.240</td>\n",
       "      <td>8.111</td>\n",
       "      <td>8.062</td>\n",
       "      <td>554</td>\n",
       "      <td>Y2</td>\n",
       "      <td>True</td>\n",
       "      <td>1</td>\n",
       "      <td>2</td>\n",
       "      <td>-1</td>\n",
       "      <td>H</td>\n",
       "      <td>H_i+1</td>\n",
       "    </tr>\n",
       "    <tr>\n",
       "      <th>...</th>\n",
       "      <td>...</td>\n",
       "      <td>...</td>\n",
       "      <td>...</td>\n",
       "      <td>...</td>\n",
       "      <td>...</td>\n",
       "      <td>...</td>\n",
       "      <td>...</td>\n",
       "      <td>...</td>\n",
       "      <td>...</td>\n",
       "      <td>...</td>\n",
       "      <td>...</td>\n",
       "      <td>...</td>\n",
       "      <td>...</td>\n",
       "    </tr>\n",
       "    <tr>\n",
       "      <th>1789</th>\n",
       "      <td>S100</td>\n",
       "      <td>H99HB3</td>\n",
       "      <td>123.154</td>\n",
       "      <td>8.119</td>\n",
       "      <td>3.245</td>\n",
       "      <td>1350</td>\n",
       "      <td>S100</td>\n",
       "      <td>False</td>\n",
       "      <td>100</td>\n",
       "      <td>100</td>\n",
       "      <td>0</td>\n",
       "      <td>H</td>\n",
       "      <td>H_i</td>\n",
       "    </tr>\n",
       "    <tr>\n",
       "      <th>1790</th>\n",
       "      <td>S100</td>\n",
       "      <td>H</td>\n",
       "      <td>123.154</td>\n",
       "      <td>8.119</td>\n",
       "      <td>8.119</td>\n",
       "      <td>69967</td>\n",
       "      <td>S100</td>\n",
       "      <td>False</td>\n",
       "      <td>100</td>\n",
       "      <td>100</td>\n",
       "      <td>0</td>\n",
       "      <td>H</td>\n",
       "      <td>H_i</td>\n",
       "    </tr>\n",
       "    <tr>\n",
       "      <th>1791</th>\n",
       "      <td>S100</td>\n",
       "      <td>HA</td>\n",
       "      <td>123.154</td>\n",
       "      <td>8.119</td>\n",
       "      <td>4.258</td>\n",
       "      <td>2956</td>\n",
       "      <td>S100</td>\n",
       "      <td>False</td>\n",
       "      <td>100</td>\n",
       "      <td>100</td>\n",
       "      <td>0</td>\n",
       "      <td>HA</td>\n",
       "      <td>HA_i</td>\n",
       "    </tr>\n",
       "    <tr>\n",
       "      <th>1792</th>\n",
       "      <td>S100</td>\n",
       "      <td>HB2</td>\n",
       "      <td>123.154</td>\n",
       "      <td>8.119</td>\n",
       "      <td>3.849</td>\n",
       "      <td>3318</td>\n",
       "      <td>S100</td>\n",
       "      <td>False</td>\n",
       "      <td>100</td>\n",
       "      <td>100</td>\n",
       "      <td>0</td>\n",
       "      <td>HB</td>\n",
       "      <td>HB_i</td>\n",
       "    </tr>\n",
       "    <tr>\n",
       "      <th>1793</th>\n",
       "      <td>S100</td>\n",
       "      <td>HB3</td>\n",
       "      <td>123.154</td>\n",
       "      <td>8.119</td>\n",
       "      <td>3.849</td>\n",
       "      <td>3318</td>\n",
       "      <td>S100</td>\n",
       "      <td>False</td>\n",
       "      <td>100</td>\n",
       "      <td>100</td>\n",
       "      <td>0</td>\n",
       "      <td>HB</td>\n",
       "      <td>HB_i</td>\n",
       "    </tr>\n",
       "  </tbody>\n",
       "</table>\n",
       "<p>1794 rows × 13 columns</p>\n",
       "</div>"
      ]
     },
     "execution_count": 3,
     "metadata": {},
     "output_type": "execute_result"
    }
   ],
   "execution_count": 3
  },
  {
   "metadata": {},
   "cell_type": "markdown",
   "source": "Removing the side-chains",
   "id": "4637cfc6e46b95c0"
  },
  {
   "metadata": {
    "ExecuteTime": {
     "end_time": "2024-05-30T15:43:09.836932Z",
     "start_time": "2024-05-30T15:43:09.820595Z"
    }
   },
   "cell_type": "code",
   "source": "df = df.loc[~ (df.res.str.contains('ND') | df.res.str.contains('NE'))]",
   "id": "9da3d085cb5e99cd",
   "outputs": [],
   "execution_count": 4
  },
  {
   "metadata": {},
   "cell_type": "markdown",
   "source": "Remove the backbone-to-sidechain contacts (they are too intense or just overlapped)",
   "id": "8c271209ba6aa55a"
  },
  {
   "metadata": {
    "ExecuteTime": {
     "end_time": "2024-05-30T15:43:09.858791Z",
     "start_time": "2024-05-30T15:43:09.839606Z"
    }
   },
   "cell_type": "code",
   "source": "df = df.loc[~ (df.noe.str.contains('HG') | df.noe.str.contains('HD') | df.noe.str.contains('HE'))]",
   "id": "cf5c3c2c76fcd2ca",
   "outputs": [],
   "execution_count": 5
  },
  {
   "metadata": {},
   "cell_type": "markdown",
   "source": "Removing the diagonals",
   "id": "c82b33f7b726306b"
  },
  {
   "metadata": {
    "ExecuteTime": {
     "end_time": "2024-05-30T15:43:09.890139Z",
     "start_time": "2024-05-30T15:43:09.861547Z"
    }
   },
   "cell_type": "code",
   "source": "df = df.query('Hn != H')",
   "id": "32bf78e4bb0edafc",
   "outputs": [],
   "execution_count": 6
  },
  {
   "metadata": {
    "ExecuteTime": {
     "end_time": "2024-05-30T15:43:09.909507Z",
     "start_time": "2024-05-30T15:43:09.895685Z"
    }
   },
   "cell_type": "code",
   "source": "df.shape",
   "id": "b0ea1b6662247ba8",
   "outputs": [
    {
     "data": {
      "text/plain": [
       "(1161, 13)"
      ]
     },
     "execution_count": 7,
     "metadata": {},
     "output_type": "execute_result"
    }
   ],
   "execution_count": 7
  },
  {
   "metadata": {},
   "cell_type": "markdown",
   "source": "# Analysis",
   "id": "8f34082fe1181007"
  },
  {
   "metadata": {
    "ExecuteTime": {
     "end_time": "2024-05-30T15:43:09.962316Z",
     "start_time": "2024-05-30T15:43:09.912916Z"
    }
   },
   "cell_type": "code",
   "source": "get_atom_rank_matrix(df, exclude_sc=True)",
   "id": "b8e5b2f37ef5bb45",
   "outputs": [
    {
     "data": {
      "text/plain": [
       "           1st highest  2nd highest  3rd highest  4th or lower\n",
       "Atom name                                                     \n",
       "HA_i                30           38           20             5\n",
       "HA_i-1              41           14           10            25\n",
       "H_i-1                7           15           18            43"
      ],
      "text/html": [
       "<div>\n",
       "<style scoped>\n",
       "    .dataframe tbody tr th:only-of-type {\n",
       "        vertical-align: middle;\n",
       "    }\n",
       "\n",
       "    .dataframe tbody tr th {\n",
       "        vertical-align: top;\n",
       "    }\n",
       "\n",
       "    .dataframe thead th {\n",
       "        text-align: right;\n",
       "    }\n",
       "</style>\n",
       "<table border=\"1\" class=\"dataframe\">\n",
       "  <thead>\n",
       "    <tr style=\"text-align: right;\">\n",
       "      <th></th>\n",
       "      <th>1st highest</th>\n",
       "      <th>2nd highest</th>\n",
       "      <th>3rd highest</th>\n",
       "      <th>4th or lower</th>\n",
       "    </tr>\n",
       "    <tr>\n",
       "      <th>Atom name</th>\n",
       "      <th></th>\n",
       "      <th></th>\n",
       "      <th></th>\n",
       "      <th></th>\n",
       "    </tr>\n",
       "  </thead>\n",
       "  <tbody>\n",
       "    <tr>\n",
       "      <th>HA_i</th>\n",
       "      <td>30</td>\n",
       "      <td>38</td>\n",
       "      <td>20</td>\n",
       "      <td>5</td>\n",
       "    </tr>\n",
       "    <tr>\n",
       "      <th>HA_i-1</th>\n",
       "      <td>41</td>\n",
       "      <td>14</td>\n",
       "      <td>10</td>\n",
       "      <td>25</td>\n",
       "    </tr>\n",
       "    <tr>\n",
       "      <th>H_i-1</th>\n",
       "      <td>7</td>\n",
       "      <td>15</td>\n",
       "      <td>18</td>\n",
       "      <td>43</td>\n",
       "    </tr>\n",
       "  </tbody>\n",
       "</table>\n",
       "</div>"
      ]
     },
     "execution_count": 8,
     "metadata": {},
     "output_type": "execute_result"
    }
   ],
   "execution_count": 8
  },
  {
   "metadata": {
    "ExecuteTime": {
     "end_time": "2024-05-30T15:43:09.991831Z",
     "start_time": "2024-05-30T15:43:09.965136Z"
    }
   },
   "cell_type": "code",
   "source": "get_atoms_w_strongest_noes(df)",
   "id": "fe360a9ce5dda093",
   "outputs": [
    {
     "data": {
      "text/plain": [
       "           count\n",
       "Atom type       \n",
       "HA_i-1        35\n",
       "HB_i          23\n",
       "HA_i           9\n",
       "HB_i-1         6\n",
       "H_i+1          4\n",
       "H_i-1          4\n",
       "H_i-2          2\n",
       "H_i+2          2\n",
       "HA_i-2         2\n",
       "HA_i-3         2\n",
       "HA_i-72        1\n",
       "HA_i+1         1"
      ],
      "text/html": [
       "<div>\n",
       "<style scoped>\n",
       "    .dataframe tbody tr th:only-of-type {\n",
       "        vertical-align: middle;\n",
       "    }\n",
       "\n",
       "    .dataframe tbody tr th {\n",
       "        vertical-align: top;\n",
       "    }\n",
       "\n",
       "    .dataframe thead th {\n",
       "        text-align: right;\n",
       "    }\n",
       "</style>\n",
       "<table border=\"1\" class=\"dataframe\">\n",
       "  <thead>\n",
       "    <tr style=\"text-align: right;\">\n",
       "      <th></th>\n",
       "      <th>count</th>\n",
       "    </tr>\n",
       "    <tr>\n",
       "      <th>Atom type</th>\n",
       "      <th></th>\n",
       "    </tr>\n",
       "  </thead>\n",
       "  <tbody>\n",
       "    <tr>\n",
       "      <th>HA_i-1</th>\n",
       "      <td>35</td>\n",
       "    </tr>\n",
       "    <tr>\n",
       "      <th>HB_i</th>\n",
       "      <td>23</td>\n",
       "    </tr>\n",
       "    <tr>\n",
       "      <th>HA_i</th>\n",
       "      <td>9</td>\n",
       "    </tr>\n",
       "    <tr>\n",
       "      <th>HB_i-1</th>\n",
       "      <td>6</td>\n",
       "    </tr>\n",
       "    <tr>\n",
       "      <th>H_i+1</th>\n",
       "      <td>4</td>\n",
       "    </tr>\n",
       "    <tr>\n",
       "      <th>H_i-1</th>\n",
       "      <td>4</td>\n",
       "    </tr>\n",
       "    <tr>\n",
       "      <th>H_i-2</th>\n",
       "      <td>2</td>\n",
       "    </tr>\n",
       "    <tr>\n",
       "      <th>H_i+2</th>\n",
       "      <td>2</td>\n",
       "    </tr>\n",
       "    <tr>\n",
       "      <th>HA_i-2</th>\n",
       "      <td>2</td>\n",
       "    </tr>\n",
       "    <tr>\n",
       "      <th>HA_i-3</th>\n",
       "      <td>2</td>\n",
       "    </tr>\n",
       "    <tr>\n",
       "      <th>HA_i-72</th>\n",
       "      <td>1</td>\n",
       "    </tr>\n",
       "    <tr>\n",
       "      <th>HA_i+1</th>\n",
       "      <td>1</td>\n",
       "    </tr>\n",
       "  </tbody>\n",
       "</table>\n",
       "</div>"
      ]
     },
     "execution_count": 9,
     "metadata": {},
     "output_type": "execute_result"
    }
   ],
   "execution_count": 9
  },
  {
   "metadata": {},
   "cell_type": "markdown",
   "source": [
    "> It would be also useful the see for each of the HA_i, HA_i-1, H_i-1 the following numbers:\n",
    "\n",
    "> - average relative intensity with respect to the spin system's maximum intensity\n",
    "> - minimum relative intensity\n",
    "> - the frequencies you computed above but considering only HN protons\n",
    "> - the frequencies you computed above but considering only HA protons"
   ],
   "id": "624deb07bfa18230"
  },
  {
   "metadata": {},
   "cell_type": "markdown",
   "source": "Intenities only among HN peaks",
   "id": "27c75026e4425e2c"
  },
  {
   "metadata": {
    "ExecuteTime": {
     "end_time": "2024-05-30T15:45:55.126413Z",
     "start_time": "2024-05-30T15:45:55.094212Z"
    }
   },
   "cell_type": "code",
   "source": [
    "df_hn = df.loc[df.atom_type == \"H\"]\n",
    "get_atom_rank_matrix(df_hn) #, exclude_sc=True) - obsolete since the df is already filtered for amide protons"
   ],
   "id": "9a2ef9506cedc098",
   "outputs": [
    {
     "data": {
      "text/plain": [
       "           1st highest  2nd highest  3rd highest  4th or lower\n",
       "Atom name                                                     \n",
       "H_i-1               44           29            6             4"
      ],
      "text/html": [
       "<div>\n",
       "<style scoped>\n",
       "    .dataframe tbody tr th:only-of-type {\n",
       "        vertical-align: middle;\n",
       "    }\n",
       "\n",
       "    .dataframe tbody tr th {\n",
       "        vertical-align: top;\n",
       "    }\n",
       "\n",
       "    .dataframe thead th {\n",
       "        text-align: right;\n",
       "    }\n",
       "</style>\n",
       "<table border=\"1\" class=\"dataframe\">\n",
       "  <thead>\n",
       "    <tr style=\"text-align: right;\">\n",
       "      <th></th>\n",
       "      <th>1st highest</th>\n",
       "      <th>2nd highest</th>\n",
       "      <th>3rd highest</th>\n",
       "      <th>4th or lower</th>\n",
       "    </tr>\n",
       "    <tr>\n",
       "      <th>Atom name</th>\n",
       "      <th></th>\n",
       "      <th></th>\n",
       "      <th></th>\n",
       "      <th></th>\n",
       "    </tr>\n",
       "  </thead>\n",
       "  <tbody>\n",
       "    <tr>\n",
       "      <th>H_i-1</th>\n",
       "      <td>44</td>\n",
       "      <td>29</td>\n",
       "      <td>6</td>\n",
       "      <td>4</td>\n",
       "    </tr>\n",
       "  </tbody>\n",
       "</table>\n",
       "</div>"
      ]
     },
     "execution_count": 17,
     "metadata": {},
     "output_type": "execute_result"
    }
   ],
   "execution_count": 17
  },
  {
   "metadata": {
    "ExecuteTime": {
     "end_time": "2024-05-30T15:46:58.299094Z",
     "start_time": "2024-05-30T15:46:58.275201Z"
    }
   },
   "cell_type": "code",
   "source": [
    "df_ha = df.loc[df.atom_type == \"HA\"]\n",
    "get_atom_rank_matrix(df_ha)  "
   ],
   "id": "2b32c8a6a2917cf5",
   "outputs": [
    {
     "data": {
      "text/plain": [
       "           1st highest  2nd highest  3rd highest  4th or lower\n",
       "Atom name                                                     \n",
       "HA_i                43           34           14             2\n",
       "HA_i-1              44           25           19             2"
      ],
      "text/html": [
       "<div>\n",
       "<style scoped>\n",
       "    .dataframe tbody tr th:only-of-type {\n",
       "        vertical-align: middle;\n",
       "    }\n",
       "\n",
       "    .dataframe tbody tr th {\n",
       "        vertical-align: top;\n",
       "    }\n",
       "\n",
       "    .dataframe thead th {\n",
       "        text-align: right;\n",
       "    }\n",
       "</style>\n",
       "<table border=\"1\" class=\"dataframe\">\n",
       "  <thead>\n",
       "    <tr style=\"text-align: right;\">\n",
       "      <th></th>\n",
       "      <th>1st highest</th>\n",
       "      <th>2nd highest</th>\n",
       "      <th>3rd highest</th>\n",
       "      <th>4th or lower</th>\n",
       "    </tr>\n",
       "    <tr>\n",
       "      <th>Atom name</th>\n",
       "      <th></th>\n",
       "      <th></th>\n",
       "      <th></th>\n",
       "      <th></th>\n",
       "    </tr>\n",
       "  </thead>\n",
       "  <tbody>\n",
       "    <tr>\n",
       "      <th>HA_i</th>\n",
       "      <td>43</td>\n",
       "      <td>34</td>\n",
       "      <td>14</td>\n",
       "      <td>2</td>\n",
       "    </tr>\n",
       "    <tr>\n",
       "      <th>HA_i-1</th>\n",
       "      <td>44</td>\n",
       "      <td>25</td>\n",
       "      <td>19</td>\n",
       "      <td>2</td>\n",
       "    </tr>\n",
       "  </tbody>\n",
       "</table>\n",
       "</div>"
      ]
     },
     "execution_count": 18,
     "metadata": {},
     "output_type": "execute_result"
    }
   ],
   "execution_count": 18
  },
  {
   "metadata": {},
   "cell_type": "code",
   "outputs": [],
   "execution_count": null,
   "source": "",
   "id": "604061d3a5d7295e"
  },
  {
   "metadata": {},
   "cell_type": "markdown",
   "source": "### Intensity distribution",
   "id": "df4e038c383c95fe"
  },
  {
   "metadata": {},
   "cell_type": "code",
   "source": "df.height.plot(kind='hist', bins=200)",
   "id": "4e2b657d38a29122",
   "outputs": [],
   "execution_count": null
  },
  {
   "metadata": {},
   "cell_type": "code",
   "source": [
    "df_bb = df.loc[df.atom_type_pos.isin(['H_i-1', 'HA_i', 'HA_i-1'])]\n",
    "df_bb['atom_type_pos'].replace({'H_i-1': '$H_{i-1}$', 'HA_i-1': '$H^A_{i-1}$', 'HA_i': '$H^A_{i}$'}, inplace=True)\n",
    "df_bb.rename({\"atom_type_pos\": 'Atom type'}, axis=1, inplace=True)\n",
    "\n",
    "ax = sns.histplot(df_bb, x='height', hue='Atom type', \n",
    "                  element=\"step\",\n",
    "                  kde=True, common_norm=False,  \n",
    "                  palette=sns.blend_palette(['red', 'blue', 'orange'], n_colors=3),\n",
    "                  line_kws={\"linewidth\": 3, }\n",
    "                    )\n",
    "#sns.histplot(df_bb, x='height', hue='Atom type', bins=150, ax=ax)\n",
    "sns.despine(left=True, bottom=True)\n",
    "plt.xlabel(\"NOE peak height\")\n",
    "plt.gca().get_yaxis().set_visible(False)\n",
    "plt.title(f\"Intensity distribution of NOE peaks in 3D 15N NOESY of {pdb_id}\");"
   ],
   "id": "b3a2cb2181d540c",
   "outputs": [],
   "execution_count": null
  },
  {
   "metadata": {},
   "cell_type": "code",
   "source": "df.res.unique().shape",
   "id": "86131c9b9d905df0",
   "outputs": [],
   "execution_count": null
  },
  {
   "metadata": {},
   "cell_type": "markdown",
   "source": "### Average intensities in the spin systems",
   "id": "8707ebfd6e17241a"
  },
  {
   "metadata": {},
   "cell_type": "code",
   "source": "",
   "id": "ecb2ee02e5f93ea3",
   "outputs": [],
   "execution_count": null
  },
  {
   "metadata": {},
   "cell_type": "markdown",
   "source": [
    "## $H^{i-k}_{\\alpha}$\n",
    "\n",
    "How many $H^{i-k}_{\\alpha}$s are stronger than $H^{i}_{\\alpha}$?\n",
    "\n",
    ">Expected from the theory: None. Because any $H^{i-k}_{\\alpha}$s are further away from the magnetization source - which is $H^N$ - than $H^{i}_{\\alpha}$s"
   ],
   "id": "d7d12db85d508980"
  },
  {
   "metadata": {},
   "cell_type": "code",
   "source": [
    "df_intra_Ha = df[~df.inter & df.noe.str.contains('HA')]\n",
    "df_inter_Ha = df[df.inter & df.noe.str.contains('HA')]"
   ],
   "id": "3364a6c3a5656c8d",
   "outputs": [],
   "execution_count": null
  },
  {
   "metadata": {},
   "cell_type": "code",
   "source": [
    "n_anomalies = get_n_anomalies(df_strong=df_intra_Ha,\n",
    "                              df_weak=df_inter_Ha)"
   ],
   "id": "3d5a99cc7aac9ccb",
   "outputs": [],
   "execution_count": null
  },
  {
   "metadata": {},
   "cell_type": "markdown",
   "source": "For 2LEA, there are 45 cases where an inter-residual NOE is stronger than the very own NOE peak!",
   "id": "51ddf943d47b7a3e"
  },
  {
   "metadata": {},
   "cell_type": "code",
   "source": [
    "# For HAs only:\n",
    "compare_strongest_noes(df_intra_Ha, df_inter_Ha)"
   ],
   "id": "23d9e058187b7f5",
   "outputs": [],
   "execution_count": null
  }
 ],
 "metadata": {
  "kernelspec": {
   "display_name": "Python 3",
   "language": "python",
   "name": "python3"
  },
  "language_info": {
   "codemirror_mode": {
    "name": "ipython",
    "version": 2
   },
   "file_extension": ".py",
   "mimetype": "text/x-python",
   "name": "python",
   "nbconvert_exporter": "python",
   "pygments_lexer": "ipython2",
   "version": "2.7.6"
  }
 },
 "nbformat": 4,
 "nbformat_minor": 5
}
