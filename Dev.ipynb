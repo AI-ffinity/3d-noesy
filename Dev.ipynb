{
 "cells": [
  {
   "cell_type": "code",
   "execution_count": 6,
   "id": "initial_id",
   "metadata": {
    "ExecuteTime": {
     "end_time": "2024-06-01T21:55:56.061645Z",
     "start_time": "2024-06-01T21:55:56.055288Z"
    },
    "collapsed": true,
    "jupyter": {
     "outputs_hidden": true
    }
   },
   "outputs": [],
   "source": [
    "import pandas as pd\n",
    "import numpy as np\n",
    "import seaborn as sns\n",
    "import matplotlib.pyplot as plt\n",
    "\n",
    "import warnings\n",
    "warnings.simplefilter(action='ignore', category=FutureWarning)"
   ]
  },
  {
   "cell_type": "code",
   "execution_count": 7,
   "id": "b43a47517bc2b01",
   "metadata": {
    "ExecuteTime": {
     "end_time": "2024-06-01T21:55:56.139353Z",
     "start_time": "2024-06-01T21:55:56.131957Z"
    }
   },
   "outputs": [],
   "source": [
    "pdb_ids = ['2LEA', '2K52', '2LTM', '2KD0', '2LF2']\n",
    "pdb_id = pdb_ids[4]"
   ]
  },
  {
   "cell_type": "code",
   "execution_count": 20,
   "id": "1de60a8c56bd43de",
   "metadata": {
    "ExecuteTime": {
     "end_time": "2024-06-01T22:15:27.243752Z",
     "start_time": "2024-06-01T22:15:27.129257Z"
    }
   },
   "outputs": [],
   "source": [
    "df = pd.read_csv('data/' + pdb_id + '_15N.list', header=0, index_col=None, sep='\\s+')\n",
    "\n",
    "df.drop(columns='Height', inplace=True)\n",
    "df.rename({\n",
    "    'Assignment': 'label',\n",
    "    'Data': 'height',\n",
    "    'w1': 'N',\n",
    "    'w2': 'Hn',\n",
    "    'w3': 'H'\n",
    "}, axis=1, inplace=True)\n",
    "df['height'] = np.abs(df.height)\n",
    "\n",
    "df.insert(0, 'noe', df.label.apply(lambda s: s.split('-')[-1]))\n",
    "df.insert(0, 'res', df.label.apply(lambda s: s.split('-')[0]))\n",
    "\n",
    "df['noe_res'] = df.noe.apply(lambda s: s.split('H')[0])\n",
    "df.loc[df.noe_res == '', 'noe_res'] = df.loc[df.noe_res == ''].res\n",
    "df['noe_res'] = df.noe_res.str.removesuffix('N')\n",
    "df['res'] = df.res.str.removesuffix('N')\n",
    "df.drop(columns='label', inplace=True)\n",
    "df['inter'] = df.noe_res != df.res\n",
    "\n",
    "df['resnum'] = df['res'].str.extract('(\\d+)', expand=False).fillna(0).astype(int)\n",
    "df['noe_resnum'] = df['noe_res'].str.extract('(\\d+)', expand=False).fillna(0).astype(int)\n",
    "\n",
    "df['res_diff'] = df['resnum'] - df['noe_resnum']\n",
    "df['atom_type'] = df['noe'].str.extract(r'(H[A-Za-z]?)')\n",
    "df = df.assign(atom_type_pos=lambda s: s.atom_type + '_i-' + s.res_diff.astype('str'))\n",
    "df['atom_type_pos'] = df.atom_type_pos.str.replace('--', '+')\n",
    "df['atom_type_pos'] = df.atom_type_pos.str.replace('-0', '')\n",
    "\n",
    "df = df[df.atom_type==\"HA\"]"
   ]
  },
  {
   "cell_type": "markdown",
   "id": "bec277b889d3fde7",
   "metadata": {},
   "source": [
    "Remove any protons but the HA from w3 \n",
    " \n",
    "Plot the distribution of \n",
    "- Intensity rank of N(i)-H(i)-HA(i) wrt any N(i)-H(i)-HA([0-9]+)\n",
    "- Relative intensity of N(i)-H(i)-HA(i) wrt any N(i)-H(i)-HA([0-9]+)\n",
    "- Intensity rank of N(i)-H(i)-HA(i-1) wrt any N(i)-H(i)-HA([0-9]+)\n",
    "- Relative intensity of N(i)-H(i)-HA(i-1) wrt any N(i)-H(i)-HA([0-9]+)"
   ]
  },
  {
   "cell_type": "code",
   "execution_count": 21,
   "id": "3da4a41a7d3631b2",
   "metadata": {
    "ExecuteTime": {
     "end_time": "2024-06-01T22:15:30.614353Z",
     "start_time": "2024-06-01T22:15:30.585490Z"
    }
   },
   "outputs": [
    {
     "data": {
      "text/html": [
       "<div>\n",
       "<style scoped>\n",
       "    .dataframe tbody tr th:only-of-type {\n",
       "        vertical-align: middle;\n",
       "    }\n",
       "\n",
       "    .dataframe tbody tr th {\n",
       "        vertical-align: top;\n",
       "    }\n",
       "\n",
       "    .dataframe thead th {\n",
       "        text-align: right;\n",
       "    }\n",
       "</style>\n",
       "<table border=\"1\" class=\"dataframe\">\n",
       "  <thead>\n",
       "    <tr style=\"text-align: right;\">\n",
       "      <th></th>\n",
       "      <th>res</th>\n",
       "      <th>noe</th>\n",
       "      <th>N</th>\n",
       "      <th>Hn</th>\n",
       "      <th>H</th>\n",
       "      <th>height</th>\n",
       "      <th>rel_height</th>\n",
       "      <th>noe_res</th>\n",
       "      <th>inter</th>\n",
       "      <th>resnum</th>\n",
       "      <th>noe_resnum</th>\n",
       "      <th>res_diff</th>\n",
       "      <th>atom_type</th>\n",
       "      <th>atom_type_pos</th>\n",
       "    </tr>\n",
       "  </thead>\n",
       "  <tbody>\n",
       "    <tr>\n",
       "      <th>1</th>\n",
       "      <td>T3</td>\n",
       "      <td>R2HA</td>\n",
       "      <td>114.2</td>\n",
       "      <td>8.42</td>\n",
       "      <td>4.46</td>\n",
       "      <td>2354</td>\n",
       "      <td>1.000000</td>\n",
       "      <td>R2</td>\n",
       "      <td>True</td>\n",
       "      <td>3</td>\n",
       "      <td>2</td>\n",
       "      <td>1</td>\n",
       "      <td>HA</td>\n",
       "      <td>HA_i-1</td>\n",
       "    </tr>\n",
       "    <tr>\n",
       "      <th>7</th>\n",
       "      <td>T3</td>\n",
       "      <td>HA</td>\n",
       "      <td>114.2</td>\n",
       "      <td>8.42</td>\n",
       "      <td>4.34</td>\n",
       "      <td>745</td>\n",
       "      <td>0.316483</td>\n",
       "      <td>T3</td>\n",
       "      <td>False</td>\n",
       "      <td>3</td>\n",
       "      <td>3</td>\n",
       "      <td>0</td>\n",
       "      <td>HA</td>\n",
       "      <td>HA_i</td>\n",
       "    </tr>\n",
       "    <tr>\n",
       "      <th>12</th>\n",
       "      <td>D4</td>\n",
       "      <td>T3HA</td>\n",
       "      <td>120.9</td>\n",
       "      <td>8.63</td>\n",
       "      <td>4.34</td>\n",
       "      <td>8382</td>\n",
       "      <td>1.000000</td>\n",
       "      <td>T3</td>\n",
       "      <td>True</td>\n",
       "      <td>4</td>\n",
       "      <td>3</td>\n",
       "      <td>1</td>\n",
       "      <td>HA</td>\n",
       "      <td>HA_i-1</td>\n",
       "    </tr>\n",
       "    <tr>\n",
       "      <th>16</th>\n",
       "      <td>D4</td>\n",
       "      <td>HA</td>\n",
       "      <td>120.9</td>\n",
       "      <td>8.63</td>\n",
       "      <td>4.57</td>\n",
       "      <td>6638</td>\n",
       "      <td>0.791935</td>\n",
       "      <td>D4</td>\n",
       "      <td>False</td>\n",
       "      <td>4</td>\n",
       "      <td>4</td>\n",
       "      <td>0</td>\n",
       "      <td>HA</td>\n",
       "      <td>HA_i</td>\n",
       "    </tr>\n",
       "    <tr>\n",
       "      <th>21</th>\n",
       "      <td>L5</td>\n",
       "      <td>D4HA</td>\n",
       "      <td>121.9</td>\n",
       "      <td>7.58</td>\n",
       "      <td>4.57</td>\n",
       "      <td>13052</td>\n",
       "      <td>1.000000</td>\n",
       "      <td>D4</td>\n",
       "      <td>True</td>\n",
       "      <td>5</td>\n",
       "      <td>4</td>\n",
       "      <td>1</td>\n",
       "      <td>HA</td>\n",
       "      <td>HA_i-1</td>\n",
       "    </tr>\n",
       "    <tr>\n",
       "      <th>...</th>\n",
       "      <td>...</td>\n",
       "      <td>...</td>\n",
       "      <td>...</td>\n",
       "      <td>...</td>\n",
       "      <td>...</td>\n",
       "      <td>...</td>\n",
       "      <td>...</td>\n",
       "      <td>...</td>\n",
       "      <td>...</td>\n",
       "      <td>...</td>\n",
       "      <td>...</td>\n",
       "      <td>...</td>\n",
       "      <td>...</td>\n",
       "      <td>...</td>\n",
       "    </tr>\n",
       "    <tr>\n",
       "      <th>3689</th>\n",
       "      <td>L168</td>\n",
       "      <td>K167HA</td>\n",
       "      <td>123.0</td>\n",
       "      <td>8.24</td>\n",
       "      <td>4.28</td>\n",
       "      <td>18332</td>\n",
       "      <td>1.000000</td>\n",
       "      <td>K167</td>\n",
       "      <td>True</td>\n",
       "      <td>168</td>\n",
       "      <td>167</td>\n",
       "      <td>1</td>\n",
       "      <td>HA</td>\n",
       "      <td>HA_i-1</td>\n",
       "    </tr>\n",
       "    <tr>\n",
       "      <th>3695</th>\n",
       "      <td>L168</td>\n",
       "      <td>HA</td>\n",
       "      <td>123.0</td>\n",
       "      <td>8.24</td>\n",
       "      <td>4.31</td>\n",
       "      <td>12256</td>\n",
       "      <td>0.668558</td>\n",
       "      <td>L168</td>\n",
       "      <td>False</td>\n",
       "      <td>168</td>\n",
       "      <td>168</td>\n",
       "      <td>0</td>\n",
       "      <td>HA</td>\n",
       "      <td>HA_i</td>\n",
       "    </tr>\n",
       "    <tr>\n",
       "      <th>3703</th>\n",
       "      <td>E169</td>\n",
       "      <td>L168HA</td>\n",
       "      <td>120.9</td>\n",
       "      <td>8.33</td>\n",
       "      <td>4.31</td>\n",
       "      <td>8139</td>\n",
       "      <td>1.000000</td>\n",
       "      <td>L168</td>\n",
       "      <td>True</td>\n",
       "      <td>169</td>\n",
       "      <td>168</td>\n",
       "      <td>1</td>\n",
       "      <td>HA</td>\n",
       "      <td>HA_i-1</td>\n",
       "    </tr>\n",
       "    <tr>\n",
       "      <th>3710</th>\n",
       "      <td>E169</td>\n",
       "      <td>HA</td>\n",
       "      <td>120.9</td>\n",
       "      <td>8.33</td>\n",
       "      <td>4.20</td>\n",
       "      <td>3393</td>\n",
       "      <td>0.416882</td>\n",
       "      <td>E169</td>\n",
       "      <td>False</td>\n",
       "      <td>169</td>\n",
       "      <td>169</td>\n",
       "      <td>0</td>\n",
       "      <td>HA</td>\n",
       "      <td>HA_i</td>\n",
       "    </tr>\n",
       "    <tr>\n",
       "      <th>3717</th>\n",
       "      <td>H170</td>\n",
       "      <td>E169HA</td>\n",
       "      <td>119.8</td>\n",
       "      <td>8.26</td>\n",
       "      <td>4.20</td>\n",
       "      <td>382</td>\n",
       "      <td>1.000000</td>\n",
       "      <td>E169</td>\n",
       "      <td>True</td>\n",
       "      <td>170</td>\n",
       "      <td>169</td>\n",
       "      <td>1</td>\n",
       "      <td>HA</td>\n",
       "      <td>HA_i-1</td>\n",
       "    </tr>\n",
       "  </tbody>\n",
       "</table>\n",
       "<p>885 rows × 14 columns</p>\n",
       "</div>"
      ],
      "text/plain": [
       "       res     noe      N    Hn     H  height  rel_height noe_res  inter  \\\n",
       "1       T3    R2HA  114.2  8.42  4.46    2354    1.000000      R2   True   \n",
       "7       T3      HA  114.2  8.42  4.34     745    0.316483      T3  False   \n",
       "12      D4    T3HA  120.9  8.63  4.34    8382    1.000000      T3   True   \n",
       "16      D4      HA  120.9  8.63  4.57    6638    0.791935      D4  False   \n",
       "21      L5    D4HA  121.9  7.58  4.57   13052    1.000000      D4   True   \n",
       "...    ...     ...    ...   ...   ...     ...         ...     ...    ...   \n",
       "3689  L168  K167HA  123.0  8.24  4.28   18332    1.000000    K167   True   \n",
       "3695  L168      HA  123.0  8.24  4.31   12256    0.668558    L168  False   \n",
       "3703  E169  L168HA  120.9  8.33  4.31    8139    1.000000    L168   True   \n",
       "3710  E169      HA  120.9  8.33  4.20    3393    0.416882    E169  False   \n",
       "3717  H170  E169HA  119.8  8.26  4.20     382    1.000000    E169   True   \n",
       "\n",
       "      resnum  noe_resnum  res_diff atom_type atom_type_pos  \n",
       "1          3           2         1        HA        HA_i-1  \n",
       "7          3           3         0        HA          HA_i  \n",
       "12         4           3         1        HA        HA_i-1  \n",
       "16         4           4         0        HA          HA_i  \n",
       "21         5           4         1        HA        HA_i-1  \n",
       "...      ...         ...       ...       ...           ...  \n",
       "3689     168         167         1        HA        HA_i-1  \n",
       "3695     168         168         0        HA          HA_i  \n",
       "3703     169         168         1        HA        HA_i-1  \n",
       "3710     169         169         0        HA          HA_i  \n",
       "3717     170         169         1        HA        HA_i-1  \n",
       "\n",
       "[885 rows x 14 columns]"
      ]
     },
     "execution_count": 21,
     "metadata": {},
     "output_type": "execute_result"
    }
   ],
   "source": [
    "max_height_within_spin_system = df.groupby('res')['height'].transform('max')\n",
    "df.insert(6, 'rel_height', df.height / max_height_within_spin_system)\n",
    "df"
   ]
  },
  {
   "cell_type": "code",
   "execution_count": 22,
   "id": "14caa8f2154cb31d",
   "metadata": {
    "ExecuteTime": {
     "end_time": "2024-06-01T22:22:50.937209Z",
     "start_time": "2024-06-01T22:22:50.891608Z"
    }
   },
   "outputs": [],
   "source": [
    "dfh = df.drop_duplicates()  # This drops only the GlyHA(2,3) peaks which can not be distinguished\n",
    "\n",
    "dfh['rank'] = dfh[['res', 'atom_type_pos', 'height']].groupby(['res'], as_index=False)[\"height\"].rank(\n",
    "    method='dense', ascending=False)\n",
    "rank_counts = dfh.groupby(['atom_type_pos', 'rank']).size().unstack(fill_value=0)\n",
    "rank_counts.insert(3, \"4+\", rank_counts.iloc[:, 3:].sum(axis=1))\n",
    "rank_counts = rank_counts.iloc[:, :4]\n",
    "rank_counts.index.name = \"Atom name\"\n",
    "rank_counts.columns = [\"1st highest\", \"2nd highest\", \"3rd highest\", \"4th or lower\"]"
   ]
  },
  {
   "cell_type": "code",
   "execution_count": 23,
   "id": "7cefd0c6036c16dd",
   "metadata": {
    "ExecuteTime": {
     "end_time": "2024-06-01T22:22:59.907484Z",
     "start_time": "2024-06-01T22:22:59.896768Z"
    }
   },
   "outputs": [
    {
     "data": {
      "text/html": [
       "<div>\n",
       "<style scoped>\n",
       "    .dataframe tbody tr th:only-of-type {\n",
       "        vertical-align: middle;\n",
       "    }\n",
       "\n",
       "    .dataframe tbody tr th {\n",
       "        vertical-align: top;\n",
       "    }\n",
       "\n",
       "    .dataframe thead th {\n",
       "        text-align: right;\n",
       "    }\n",
       "</style>\n",
       "<table border=\"1\" class=\"dataframe\">\n",
       "  <thead>\n",
       "    <tr style=\"text-align: right;\">\n",
       "      <th></th>\n",
       "      <th>1st highest</th>\n",
       "      <th>2nd highest</th>\n",
       "      <th>3rd highest</th>\n",
       "      <th>4th or lower</th>\n",
       "    </tr>\n",
       "    <tr>\n",
       "      <th>Atom name</th>\n",
       "      <th></th>\n",
       "      <th></th>\n",
       "      <th></th>\n",
       "      <th></th>\n",
       "    </tr>\n",
       "  </thead>\n",
       "  <tbody>\n",
       "    <tr>\n",
       "      <th>HA_i</th>\n",
       "      <td>83</td>\n",
       "      <td>72</td>\n",
       "      <td>31</td>\n",
       "      <td>12</td>\n",
       "    </tr>\n",
       "    <tr>\n",
       "      <th>HA_i+1</th>\n",
       "      <td>4</td>\n",
       "      <td>16</td>\n",
       "      <td>29</td>\n",
       "      <td>99</td>\n",
       "    </tr>\n",
       "    <tr>\n",
       "      <th>HA_i+10</th>\n",
       "      <td>0</td>\n",
       "      <td>1</td>\n",
       "      <td>0</td>\n",
       "      <td>5</td>\n",
       "    </tr>\n",
       "    <tr>\n",
       "      <th>HA_i+100</th>\n",
       "      <td>0</td>\n",
       "      <td>1</td>\n",
       "      <td>0</td>\n",
       "      <td>0</td>\n",
       "    </tr>\n",
       "    <tr>\n",
       "      <th>HA_i+101</th>\n",
       "      <td>0</td>\n",
       "      <td>0</td>\n",
       "      <td>0</td>\n",
       "      <td>1</td>\n",
       "    </tr>\n",
       "    <tr>\n",
       "      <th>...</th>\n",
       "      <td>...</td>\n",
       "      <td>...</td>\n",
       "      <td>...</td>\n",
       "      <td>...</td>\n",
       "    </tr>\n",
       "    <tr>\n",
       "      <th>HA_i-7</th>\n",
       "      <td>0</td>\n",
       "      <td>0</td>\n",
       "      <td>1</td>\n",
       "      <td>4</td>\n",
       "    </tr>\n",
       "    <tr>\n",
       "      <th>HA_i-8</th>\n",
       "      <td>0</td>\n",
       "      <td>1</td>\n",
       "      <td>1</td>\n",
       "      <td>3</td>\n",
       "    </tr>\n",
       "    <tr>\n",
       "      <th>HA_i-9</th>\n",
       "      <td>0</td>\n",
       "      <td>1</td>\n",
       "      <td>1</td>\n",
       "      <td>2</td>\n",
       "    </tr>\n",
       "    <tr>\n",
       "      <th>HA_i-98</th>\n",
       "      <td>0</td>\n",
       "      <td>0</td>\n",
       "      <td>0</td>\n",
       "      <td>1</td>\n",
       "    </tr>\n",
       "    <tr>\n",
       "      <th>HA_i-99</th>\n",
       "      <td>0</td>\n",
       "      <td>0</td>\n",
       "      <td>0</td>\n",
       "      <td>1</td>\n",
       "    </tr>\n",
       "  </tbody>\n",
       "</table>\n",
       "<p>89 rows × 4 columns</p>\n",
       "</div>"
      ],
      "text/plain": [
       "           1st highest  2nd highest  3rd highest  4th or lower\n",
       "Atom name                                                     \n",
       "HA_i                83           72           31            12\n",
       "HA_i+1               4           16           29            99\n",
       "HA_i+10              0            1            0             5\n",
       "HA_i+100             0            1            0             0\n",
       "HA_i+101             0            0            0             1\n",
       "...                ...          ...          ...           ...\n",
       "HA_i-7               0            0            1             4\n",
       "HA_i-8               0            1            1             3\n",
       "HA_i-9               0            1            1             2\n",
       "HA_i-98              0            0            0             1\n",
       "HA_i-99              0            0            0             1\n",
       "\n",
       "[89 rows x 4 columns]"
      ]
     },
     "execution_count": 23,
     "metadata": {},
     "output_type": "execute_result"
    }
   ],
   "source": [
    "rank_counts"
   ]
  },
  {
   "cell_type": "markdown",
   "id": "37cd17e194f0884d",
   "metadata": {},
   "source": [
    "Plotting relative intensities of HAi"
   ]
  },
  {
   "cell_type": "code",
   "execution_count": 27,
   "id": "f41f8267a6dd2d38",
   "metadata": {
    "ExecuteTime": {
     "end_time": "2024-06-01T22:32:02.154123Z",
     "start_time": "2024-06-01T22:32:01.633792Z"
    }
   },
   "outputs": [
    {
     "data": {
      "text/plain": [
       "<Axes: ylabel='Frequency'>"
      ]
     },
     "execution_count": 27,
     "metadata": {},
     "output_type": "execute_result"
    },
    {
     "data": {
      "image/png": "[encoded data removed]",
      "text/plain": [
       "<Figure size 640x480 with 1 Axes>"
      ]
     },
     "metadata": {},
     "output_type": "display_data"
    }
   ],
   "source": [
    "df_HAi = df.loc[df.noe == \"HA\"]\n",
    "\n",
    "df_HAi.rel_height.plot(kind=\"hist\", bins=100, range=(0, 1));"
   ]
  },
  {
   "cell_type": "code",
   "execution_count": 28,
   "id": "36bc373650c367c9",
   "metadata": {
    "ExecuteTime": {
     "end_time": "2024-06-01T22:33:24.142490Z",
     "start_time": "2024-06-01T22:33:23.363318Z"
    }
   },
   "outputs": [
    {
     "data": {
      "image/png": "[encoded data removed]",
      "text/plain": [
       "<Figure size 640x480 with 1 Axes>"
      ]
     },
     "metadata": {},
     "output_type": "display_data"
    }
   ],
   "source": [
    "df_HAim1 = df.loc[df.res_diff == 1]\n",
    "\n",
    "df_HAim1.rel_height.plot(kind=\"hist\", bins=100, range=(0, 1));"
   ]
  },
  {
   "cell_type": "code",
   "execution_count": 29,
   "id": "c5da9501b43e5739",
   "metadata": {
    "ExecuteTime": {
     "end_time": "2024-06-01T22:47:30.384447Z",
     "start_time": "2024-06-01T22:47:30.378128Z"
    }
   },
   "outputs": [
    {
     "data": {
      "text/plain": [
       "1        2354\n",
       "7         745\n",
       "12       8382\n",
       "16       6638\n",
       "21      13052\n",
       "        ...  \n",
       "3689    18332\n",
       "3695    12256\n",
       "3703     8139\n",
       "3710     3393\n",
       "3717      382\n",
       "Name: height, Length: 885, dtype: int64"
      ]
     },
     "execution_count": 29,
     "metadata": {},
     "output_type": "execute_result"
    }
   ],
   "source": [
    "df.height.abs()"
   ]
  }
 ],
 "metadata": {
  "kernelspec": {
   "display_name": "Python 3 (ipykernel)",
   "language": "python",
   "name": "python3"
  },
  "language_info": {
   "codemirror_mode": {
    "name": "ipython",
    "version": 3
   },
   "file_extension": ".py",
   "mimetype": "text/x-python",
   "name": "python",
   "nbconvert_exporter": "python",
   "pygments_lexer": "ipython3",
   "version": "3.12.3"
  }
 },
 "nbformat": 4,
 "nbformat_minor": 5
}
