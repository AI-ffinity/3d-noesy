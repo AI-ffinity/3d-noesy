{
 "cells": [
  {
   "metadata": {},
   "cell_type": "markdown",
   "source": "# Check of the NOE quantitative reliability",
   "id": "d12617219775d259"
  },
  {
   "cell_type": "code",
   "id": "initial_id",
   "metadata": {
    "collapsed": true,
    "ExecuteTime": {
     "end_time": "2024-05-31T17:57:39.998836Z",
     "start_time": "2024-05-31T17:57:39.986691Z"
    }
   },
   "source": [
    "import pandas as pd\n",
    "import numpy as np\n",
    "import seaborn as sns\n",
    "import matplotlib.pyplot as plt\n",
    "\n",
    "from functions import *\n",
    "\n",
    "import warnings\n",
    "warnings.simplefilter(action='ignore', category=FutureWarning)\n",
    "\n",
    "plt.rcParams['figure.dpi'] = 300"
   ],
   "outputs": [],
   "execution_count": 1
  },
  {
   "metadata": {
    "ExecuteTime": {
     "end_time": "2024-05-31T17:57:40.015426Z",
     "start_time": "2024-05-31T17:57:40.001360Z"
    }
   },
   "cell_type": "code",
   "source": [
    "pdb_ids = ['2LEA', '2K52', '2LTM', '2KD0', '2LF2']\n",
    "pdb_id = pdb_ids[0]"
   ],
   "id": "1a813034c2ce08e6",
   "outputs": [],
   "execution_count": 2
  },
  {
   "metadata": {},
   "cell_type": "markdown",
   "source": "## Reading the individual 3D $^{15}N$-NOESY peak lists",
   "id": "3e70efe3ac3a1892"
  },
  {
   "metadata": {
    "ExecuteTime": {
     "end_time": "2024-05-31T17:57:40.124213Z",
     "start_time": "2024-05-31T17:57:40.018231Z"
    }
   },
   "cell_type": "code",
   "source": [
    "path = f'~/Sparky/Lists/{pdb_id}.list' # set correctly\n",
    "\n",
    "# Reading the data\n",
    "df = pd.read_csv(path, header=0, index_col=None, sep='\\s+')\n",
    "df = tidy_list(df)\n",
    "\n",
    "# Why do we have negative NOEs? \n",
    "# Anyway, the phase is not important for this analysis, just remove the sign\n",
    "df['height'] = np.abs(df.height)\n",
    "\n",
    "df"
   ],
   "id": "ab98307e3ba4b099",
   "outputs": [
    {
     "data": {
      "text/plain": [
       "       res     noe        N     Hn      H  height noe_res  inter  resnum  \\\n",
       "0       S1       H  116.240  8.111  8.111    1571      S1  False       1   \n",
       "1       S1      HA  116.240  8.111  4.389    1756      S1  False       1   \n",
       "2       S1     HB2  116.240  8.111  3.750    2457      S1  False       1   \n",
       "3       S1     HB3  116.240  8.111  3.750    2457      S1  False       1   \n",
       "4       S1     Y2H  116.240  8.111  8.062     554      Y2   True       1   \n",
       "...    ...     ...      ...    ...    ...     ...     ...    ...     ...   \n",
       "1789  S100  H99HB3  123.154  8.119  3.245    1350    S100  False     100   \n",
       "1790  S100       H  123.154  8.119  8.119   69967    S100  False     100   \n",
       "1791  S100      HA  123.154  8.119  4.258    2956    S100  False     100   \n",
       "1792  S100     HB2  123.154  8.119  3.849    3318    S100  False     100   \n",
       "1793  S100     HB3  123.154  8.119  3.849    3318    S100  False     100   \n",
       "\n",
       "      noe_resnum  res_diff atom_type atom_type_pos  \n",
       "0              1         0         H           H_i  \n",
       "1              1         0        HA          HA_i  \n",
       "2              1         0        HB          HB_i  \n",
       "3              1         0        HB          HB_i  \n",
       "4              2        -1         H         H_i+1  \n",
       "...          ...       ...       ...           ...  \n",
       "1789         100         0         H           H_i  \n",
       "1790         100         0         H           H_i  \n",
       "1791         100         0        HA          HA_i  \n",
       "1792         100         0        HB          HB_i  \n",
       "1793         100         0        HB          HB_i  \n",
       "\n",
       "[1794 rows x 13 columns]"
      ],
      "text/html": [
       "<div>\n",
       "<style scoped>\n",
       "    .dataframe tbody tr th:only-of-type {\n",
       "        vertical-align: middle;\n",
       "    }\n",
       "\n",
       "    .dataframe tbody tr th {\n",
       "        vertical-align: top;\n",
       "    }\n",
       "\n",
       "    .dataframe thead th {\n",
       "        text-align: right;\n",
       "    }\n",
       "</style>\n",
       "<table border=\"1\" class=\"dataframe\">\n",
       "  <thead>\n",
       "    <tr style=\"text-align: right;\">\n",
       "      <th></th>\n",
       "      <th>res</th>\n",
       "      <th>noe</th>\n",
       "      <th>N</th>\n",
       "      <th>Hn</th>\n",
       "      <th>H</th>\n",
       "      <th>height</th>\n",
       "      <th>noe_res</th>\n",
       "      <th>inter</th>\n",
       "      <th>resnum</th>\n",
       "      <th>noe_resnum</th>\n",
       "      <th>res_diff</th>\n",
       "      <th>atom_type</th>\n",
       "      <th>atom_type_pos</th>\n",
       "    </tr>\n",
       "  </thead>\n",
       "  <tbody>\n",
       "    <tr>\n",
       "      <th>0</th>\n",
       "      <td>S1</td>\n",
       "      <td>H</td>\n",
       "      <td>116.240</td>\n",
       "      <td>8.111</td>\n",
       "      <td>8.111</td>\n",
       "      <td>1571</td>\n",
       "      <td>S1</td>\n",
       "      <td>False</td>\n",
       "      <td>1</td>\n",
       "      <td>1</td>\n",
       "      <td>0</td>\n",
       "      <td>H</td>\n",
       "      <td>H_i</td>\n",
       "    </tr>\n",
       "    <tr>\n",
       "      <th>1</th>\n",
       "      <td>S1</td>\n",
       "      <td>HA</td>\n",
       "      <td>116.240</td>\n",
       "      <td>8.111</td>\n",
       "      <td>4.389</td>\n",
       "      <td>1756</td>\n",
       "      <td>S1</td>\n",
       "      <td>False</td>\n",
       "      <td>1</td>\n",
       "      <td>1</td>\n",
       "      <td>0</td>\n",
       "      <td>HA</td>\n",
       "      <td>HA_i</td>\n",
       "    </tr>\n",
       "    <tr>\n",
       "      <th>2</th>\n",
       "      <td>S1</td>\n",
       "      <td>HB2</td>\n",
       "      <td>116.240</td>\n",
       "      <td>8.111</td>\n",
       "      <td>3.750</td>\n",
       "      <td>2457</td>\n",
       "      <td>S1</td>\n",
       "      <td>False</td>\n",
       "      <td>1</td>\n",
       "      <td>1</td>\n",
       "      <td>0</td>\n",
       "      <td>HB</td>\n",
       "      <td>HB_i</td>\n",
       "    </tr>\n",
       "    <tr>\n",
       "      <th>3</th>\n",
       "      <td>S1</td>\n",
       "      <td>HB3</td>\n",
       "      <td>116.240</td>\n",
       "      <td>8.111</td>\n",
       "      <td>3.750</td>\n",
       "      <td>2457</td>\n",
       "      <td>S1</td>\n",
       "      <td>False</td>\n",
       "      <td>1</td>\n",
       "      <td>1</td>\n",
       "      <td>0</td>\n",
       "      <td>HB</td>\n",
       "      <td>HB_i</td>\n",
       "    </tr>\n",
       "    <tr>\n",
       "      <th>4</th>\n",
       "      <td>S1</td>\n",
       "      <td>Y2H</td>\n",
       "      <td>116.240</td>\n",
       "      <td>8.111</td>\n",
       "      <td>8.062</td>\n",
       "      <td>554</td>\n",
       "      <td>Y2</td>\n",
       "      <td>True</td>\n",
       "      <td>1</td>\n",
       "      <td>2</td>\n",
       "      <td>-1</td>\n",
       "      <td>H</td>\n",
       "      <td>H_i+1</td>\n",
       "    </tr>\n",
       "    <tr>\n",
       "      <th>...</th>\n",
       "      <td>...</td>\n",
       "      <td>...</td>\n",
       "      <td>...</td>\n",
       "      <td>...</td>\n",
       "      <td>...</td>\n",
       "      <td>...</td>\n",
       "      <td>...</td>\n",
       "      <td>...</td>\n",
       "      <td>...</td>\n",
       "      <td>...</td>\n",
       "      <td>...</td>\n",
       "      <td>...</td>\n",
       "      <td>...</td>\n",
       "    </tr>\n",
       "    <tr>\n",
       "      <th>1789</th>\n",
       "      <td>S100</td>\n",
       "      <td>H99HB3</td>\n",
       "      <td>123.154</td>\n",
       "      <td>8.119</td>\n",
       "      <td>3.245</td>\n",
       "      <td>1350</td>\n",
       "      <td>S100</td>\n",
       "      <td>False</td>\n",
       "      <td>100</td>\n",
       "      <td>100</td>\n",
       "      <td>0</td>\n",
       "      <td>H</td>\n",
       "      <td>H_i</td>\n",
       "    </tr>\n",
       "    <tr>\n",
       "      <th>1790</th>\n",
       "      <td>S100</td>\n",
       "      <td>H</td>\n",
       "      <td>123.154</td>\n",
       "      <td>8.119</td>\n",
       "      <td>8.119</td>\n",
       "      <td>69967</td>\n",
       "      <td>S100</td>\n",
       "      <td>False</td>\n",
       "      <td>100</td>\n",
       "      <td>100</td>\n",
       "      <td>0</td>\n",
       "      <td>H</td>\n",
       "      <td>H_i</td>\n",
       "    </tr>\n",
       "    <tr>\n",
       "      <th>1791</th>\n",
       "      <td>S100</td>\n",
       "      <td>HA</td>\n",
       "      <td>123.154</td>\n",
       "      <td>8.119</td>\n",
       "      <td>4.258</td>\n",
       "      <td>2956</td>\n",
       "      <td>S100</td>\n",
       "      <td>False</td>\n",
       "      <td>100</td>\n",
       "      <td>100</td>\n",
       "      <td>0</td>\n",
       "      <td>HA</td>\n",
       "      <td>HA_i</td>\n",
       "    </tr>\n",
       "    <tr>\n",
       "      <th>1792</th>\n",
       "      <td>S100</td>\n",
       "      <td>HB2</td>\n",
       "      <td>123.154</td>\n",
       "      <td>8.119</td>\n",
       "      <td>3.849</td>\n",
       "      <td>3318</td>\n",
       "      <td>S100</td>\n",
       "      <td>False</td>\n",
       "      <td>100</td>\n",
       "      <td>100</td>\n",
       "      <td>0</td>\n",
       "      <td>HB</td>\n",
       "      <td>HB_i</td>\n",
       "    </tr>\n",
       "    <tr>\n",
       "      <th>1793</th>\n",
       "      <td>S100</td>\n",
       "      <td>HB3</td>\n",
       "      <td>123.154</td>\n",
       "      <td>8.119</td>\n",
       "      <td>3.849</td>\n",
       "      <td>3318</td>\n",
       "      <td>S100</td>\n",
       "      <td>False</td>\n",
       "      <td>100</td>\n",
       "      <td>100</td>\n",
       "      <td>0</td>\n",
       "      <td>HB</td>\n",
       "      <td>HB_i</td>\n",
       "    </tr>\n",
       "  </tbody>\n",
       "</table>\n",
       "<p>1794 rows × 13 columns</p>\n",
       "</div>"
      ]
     },
     "execution_count": 3,
     "metadata": {},
     "output_type": "execute_result"
    }
   ],
   "execution_count": 3
  },
  {
   "metadata": {},
   "cell_type": "markdown",
   "source": "Removing the side-chains",
   "id": "4637cfc6e46b95c0"
  },
  {
   "metadata": {
    "ExecuteTime": {
     "end_time": "2024-05-31T17:57:40.140702Z",
     "start_time": "2024-05-31T17:57:40.126977Z"
    }
   },
   "cell_type": "code",
   "source": "df = df.loc[~ (df.res.str.contains('ND') | df.res.str.contains('NE'))]",
   "id": "9da3d085cb5e99cd",
   "outputs": [],
   "execution_count": 4
  },
  {
   "metadata": {},
   "cell_type": "markdown",
   "source": "Remove the backbone-to-sidechain contacts (they are too intense or just overlapped)",
   "id": "8c271209ba6aa55a"
  },
  {
   "metadata": {
    "ExecuteTime": {
     "end_time": "2024-05-31T17:57:40.165046Z",
     "start_time": "2024-05-31T17:57:40.144614Z"
    }
   },
   "cell_type": "code",
   "source": "df = df.loc[~ (df.noe.str.contains('HG') | df.noe.str.contains('HD') | df.noe.str.contains('HE'))]",
   "id": "cf5c3c2c76fcd2ca",
   "outputs": [],
   "execution_count": 5
  },
  {
   "metadata": {},
   "cell_type": "markdown",
   "source": "Removing the diagonals",
   "id": "c82b33f7b726306b"
  },
  {
   "metadata": {
    "ExecuteTime": {
     "end_time": "2024-05-31T17:57:40.186470Z",
     "start_time": "2024-05-31T17:57:40.166962Z"
    }
   },
   "cell_type": "code",
   "source": "df = df.query('Hn != H')",
   "id": "32bf78e4bb0edafc",
   "outputs": [],
   "execution_count": 6
  },
  {
   "metadata": {
    "ExecuteTime": {
     "end_time": "2024-05-31T17:57:40.206991Z",
     "start_time": "2024-05-31T17:57:40.188150Z"
    }
   },
   "cell_type": "code",
   "source": "df.shape",
   "id": "b0ea1b6662247ba8",
   "outputs": [
    {
     "data": {
      "text/plain": [
       "(1161, 13)"
      ]
     },
     "execution_count": 7,
     "metadata": {},
     "output_type": "execute_result"
    }
   ],
   "execution_count": 7
  },
  {
   "metadata": {},
   "cell_type": "markdown",
   "source": "# Analysis",
   "id": "8f34082fe1181007"
  },
  {
   "metadata": {
    "ExecuteTime": {
     "end_time": "2024-05-31T17:57:40.225141Z",
     "start_time": "2024-05-31T17:57:40.213366Z"
    }
   },
   "cell_type": "code",
   "source": "print(f\"The protein we consider below  - PDB ID {pdb_id} - has {df.res.unique().shape[0]} assigned residues.\")",
   "id": "86131c9b9d905df0",
   "outputs": [
    {
     "name": "stdout",
     "output_type": "stream",
     "text": [
      "The protein we consider below  - PDB ID 2LEA - has 91 assigned residues.\n"
     ]
    }
   ],
   "execution_count": 8
  },
  {
   "metadata": {},
   "cell_type": "markdown",
   "source": "### Intensity distribution",
   "id": "df4e038c383c95fe"
  },
  {
   "metadata": {
    "ExecuteTime": {
     "end_time": "2024-05-31T17:57:41.125652Z",
     "start_time": "2024-05-31T17:57:40.232772Z"
    }
   },
   "cell_type": "code",
   "source": "df.height.plot(kind='hist', figsize=(6,1), bins=200);",
   "id": "4e2b657d38a29122",
   "outputs": [
    {
     "data": {
      "text/plain": [
       "<Figure size 1800x300 with 1 Axes>"
      ],
      "image/png": "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"
     },
     "metadata": {},
     "output_type": "display_data"
    }
   ],
   "execution_count": 9
  },
  {
   "metadata": {},
   "cell_type": "markdown",
   "source": "Simplifying the NOE contact categories: everything that's more than 1 residue away is now \"far\"",
   "id": "e3a00168dcd5874"
  },
  {
   "metadata": {
    "ExecuteTime": {
     "end_time": "2024-05-31T17:57:41.138130Z",
     "start_time": "2024-05-31T17:57:41.128526Z"
    }
   },
   "cell_type": "code",
   "source": "df.loc[df.res_diff.abs() > 1, \"atom_type_pos\"] = df.loc[df.res_diff.abs() > 1, \"atom_type\"] + \"_far\"",
   "id": "8c334ef9af7463ee",
   "outputs": [],
   "execution_count": 10
  },
  {
   "metadata": {},
   "cell_type": "markdown",
   "source": "## Summary stats on NOE peak intensity",
   "id": "5632c7c4b15c065b"
  },
  {
   "metadata": {},
   "cell_type": "markdown",
   "source": "Converting the peak heights to relative across the spin system",
   "id": "8707ebfd6e17241a"
  },
  {
   "metadata": {
    "ExecuteTime": {
     "end_time": "2024-05-31T17:57:41.162374Z",
     "start_time": "2024-05-31T17:57:41.140803Z"
    }
   },
   "cell_type": "code",
   "source": "df = convert_heights_to_relative(df)",
   "id": "ecb2ee02e5f93ea3",
   "outputs": [],
   "execution_count": 11
  },
  {
   "metadata": {},
   "cell_type": "markdown",
   "source": "## Frequency matrices",
   "id": "66ca4b79f0b8ee98"
  },
  {
   "metadata": {},
   "cell_type": "markdown",
   "source": "Total",
   "id": "2c062d368e6fdd7d"
  },
  {
   "metadata": {
    "ExecuteTime": {
     "end_time": "2024-05-31T17:57:41.201663Z",
     "start_time": "2024-05-31T17:57:41.164791Z"
    }
   },
   "cell_type": "code",
   "source": "get_noe_ranks(df, exclude_sc=False)",
   "id": "bf9bfe85d9b13559",
   "outputs": [
    {
     "data": {
      "text/plain": [
       "           1st highest  2nd highest  3rd highest  4th or lower\n",
       "Atom name                                                     \n",
       "HA_i                13           26           19            35\n",
       "HA_i-1              35           14           10            31\n",
       "H_i-1                4            4            4            71"
      ],
      "text/html": [
       "<div>\n",
       "<style scoped>\n",
       "    .dataframe tbody tr th:only-of-type {\n",
       "        vertical-align: middle;\n",
       "    }\n",
       "\n",
       "    .dataframe tbody tr th {\n",
       "        vertical-align: top;\n",
       "    }\n",
       "\n",
       "    .dataframe thead th {\n",
       "        text-align: right;\n",
       "    }\n",
       "</style>\n",
       "<table border=\"1\" class=\"dataframe\">\n",
       "  <thead>\n",
       "    <tr style=\"text-align: right;\">\n",
       "      <th></th>\n",
       "      <th>1st highest</th>\n",
       "      <th>2nd highest</th>\n",
       "      <th>3rd highest</th>\n",
       "      <th>4th or lower</th>\n",
       "    </tr>\n",
       "    <tr>\n",
       "      <th>Atom name</th>\n",
       "      <th></th>\n",
       "      <th></th>\n",
       "      <th></th>\n",
       "      <th></th>\n",
       "    </tr>\n",
       "  </thead>\n",
       "  <tbody>\n",
       "    <tr>\n",
       "      <th>HA_i</th>\n",
       "      <td>13</td>\n",
       "      <td>26</td>\n",
       "      <td>19</td>\n",
       "      <td>35</td>\n",
       "    </tr>\n",
       "    <tr>\n",
       "      <th>HA_i-1</th>\n",
       "      <td>35</td>\n",
       "      <td>14</td>\n",
       "      <td>10</td>\n",
       "      <td>31</td>\n",
       "    </tr>\n",
       "    <tr>\n",
       "      <th>H_i-1</th>\n",
       "      <td>4</td>\n",
       "      <td>4</td>\n",
       "      <td>4</td>\n",
       "      <td>71</td>\n",
       "    </tr>\n",
       "  </tbody>\n",
       "</table>\n",
       "</div>"
      ]
     },
     "execution_count": 12,
     "metadata": {},
     "output_type": "execute_result"
    }
   ],
   "execution_count": 12
  },
  {
   "metadata": {},
   "cell_type": "markdown",
   "source": "Side-chain protons (here: only $H^\\beta$ atoms remain in the dataset) often give rise to very intense peaks, due to those being equivalent protons or due to overlap with other NOEs from other spin systems. Let's exclude them and only consider the backbone atoms ($H^\\alpha_i$, $H^\\alpha_{i-1}$, $H_{i-1}$) for the calculation of the ranks:",
   "id": "bc6b5129e5c3d5b2"
  },
  {
   "metadata": {
    "ExecuteTime": {
     "end_time": "2024-05-31T17:57:41.227544Z",
     "start_time": "2024-05-31T17:57:41.203792Z"
    }
   },
   "cell_type": "code",
   "source": "get_noe_ranks(df, exclude_sc=True)",
   "id": "d67d51e14a540105",
   "outputs": [
    {
     "data": {
      "text/plain": [
       "           1st highest  2nd highest  3rd highest  4th or lower\n",
       "Atom name                                                     \n",
       "HA_i                30           38           20             5\n",
       "HA_i-1              41           14           10            25\n",
       "H_i-1                7           15           18            43"
      ],
      "text/html": [
       "<div>\n",
       "<style scoped>\n",
       "    .dataframe tbody tr th:only-of-type {\n",
       "        vertical-align: middle;\n",
       "    }\n",
       "\n",
       "    .dataframe tbody tr th {\n",
       "        vertical-align: top;\n",
       "    }\n",
       "\n",
       "    .dataframe thead th {\n",
       "        text-align: right;\n",
       "    }\n",
       "</style>\n",
       "<table border=\"1\" class=\"dataframe\">\n",
       "  <thead>\n",
       "    <tr style=\"text-align: right;\">\n",
       "      <th></th>\n",
       "      <th>1st highest</th>\n",
       "      <th>2nd highest</th>\n",
       "      <th>3rd highest</th>\n",
       "      <th>4th or lower</th>\n",
       "    </tr>\n",
       "    <tr>\n",
       "      <th>Atom name</th>\n",
       "      <th></th>\n",
       "      <th></th>\n",
       "      <th></th>\n",
       "      <th></th>\n",
       "    </tr>\n",
       "  </thead>\n",
       "  <tbody>\n",
       "    <tr>\n",
       "      <th>HA_i</th>\n",
       "      <td>30</td>\n",
       "      <td>38</td>\n",
       "      <td>20</td>\n",
       "      <td>5</td>\n",
       "    </tr>\n",
       "    <tr>\n",
       "      <th>HA_i-1</th>\n",
       "      <td>41</td>\n",
       "      <td>14</td>\n",
       "      <td>10</td>\n",
       "      <td>25</td>\n",
       "    </tr>\n",
       "    <tr>\n",
       "      <th>H_i-1</th>\n",
       "      <td>7</td>\n",
       "      <td>15</td>\n",
       "      <td>18</td>\n",
       "      <td>43</td>\n",
       "    </tr>\n",
       "  </tbody>\n",
       "</table>\n",
       "</div>"
      ]
     },
     "execution_count": 13,
     "metadata": {},
     "output_type": "execute_result"
    }
   ],
   "execution_count": 13
  },
  {
   "metadata": {},
   "cell_type": "markdown",
   "source": "Considering only alphatic protons ($H^\\alpha_{i[-1]}$)",
   "id": "c94b709ef850d440"
  },
  {
   "metadata": {
    "ExecuteTime": {
     "end_time": "2024-05-31T17:57:41.264480Z",
     "start_time": "2024-05-31T17:57:41.229450Z"
    }
   },
   "cell_type": "code",
   "source": "get_noe_ranks(df.query(\"atom_type == 'HA'\"), exclude_sc=False)",
   "id": "cda22aa226df59dd",
   "outputs": [
    {
     "data": {
      "text/plain": [
       "           1st highest  2nd highest  3rd highest  4th or lower\n",
       "Atom name                                                     \n",
       "HA_i                43           34           14             2\n",
       "HA_i-1              44           25           19             2"
      ],
      "text/html": [
       "<div>\n",
       "<style scoped>\n",
       "    .dataframe tbody tr th:only-of-type {\n",
       "        vertical-align: middle;\n",
       "    }\n",
       "\n",
       "    .dataframe tbody tr th {\n",
       "        vertical-align: top;\n",
       "    }\n",
       "\n",
       "    .dataframe thead th {\n",
       "        text-align: right;\n",
       "    }\n",
       "</style>\n",
       "<table border=\"1\" class=\"dataframe\">\n",
       "  <thead>\n",
       "    <tr style=\"text-align: right;\">\n",
       "      <th></th>\n",
       "      <th>1st highest</th>\n",
       "      <th>2nd highest</th>\n",
       "      <th>3rd highest</th>\n",
       "      <th>4th or lower</th>\n",
       "    </tr>\n",
       "    <tr>\n",
       "      <th>Atom name</th>\n",
       "      <th></th>\n",
       "      <th></th>\n",
       "      <th></th>\n",
       "      <th></th>\n",
       "    </tr>\n",
       "  </thead>\n",
       "  <tbody>\n",
       "    <tr>\n",
       "      <th>HA_i</th>\n",
       "      <td>43</td>\n",
       "      <td>34</td>\n",
       "      <td>14</td>\n",
       "      <td>2</td>\n",
       "    </tr>\n",
       "    <tr>\n",
       "      <th>HA_i-1</th>\n",
       "      <td>44</td>\n",
       "      <td>25</td>\n",
       "      <td>19</td>\n",
       "      <td>2</td>\n",
       "    </tr>\n",
       "  </tbody>\n",
       "</table>\n",
       "</div>"
      ]
     },
     "execution_count": 14,
     "metadata": {},
     "output_type": "execute_result"
    }
   ],
   "execution_count": 14
  },
  {
   "metadata": {},
   "cell_type": "markdown",
   "source": "Considering only amide protons ($H_{i}$)",
   "id": "abd42dcbe1a0b097"
  },
  {
   "metadata": {
    "ExecuteTime": {
     "end_time": "2024-05-31T17:57:41.298214Z",
     "start_time": "2024-05-31T17:57:41.267992Z"
    }
   },
   "cell_type": "code",
   "source": "get_noe_ranks(df.query(\"atom_type == 'H'\"), exclude_sc=False)",
   "id": "546c977a1e3e7d62",
   "outputs": [
    {
     "data": {
      "text/plain": [
       "           1st highest  2nd highest  3rd highest  4th or lower\n",
       "Atom name                                                     \n",
       "H_i-1               44           29            6             4"
      ],
      "text/html": [
       "<div>\n",
       "<style scoped>\n",
       "    .dataframe tbody tr th:only-of-type {\n",
       "        vertical-align: middle;\n",
       "    }\n",
       "\n",
       "    .dataframe tbody tr th {\n",
       "        vertical-align: top;\n",
       "    }\n",
       "\n",
       "    .dataframe thead th {\n",
       "        text-align: right;\n",
       "    }\n",
       "</style>\n",
       "<table border=\"1\" class=\"dataframe\">\n",
       "  <thead>\n",
       "    <tr style=\"text-align: right;\">\n",
       "      <th></th>\n",
       "      <th>1st highest</th>\n",
       "      <th>2nd highest</th>\n",
       "      <th>3rd highest</th>\n",
       "      <th>4th or lower</th>\n",
       "    </tr>\n",
       "    <tr>\n",
       "      <th>Atom name</th>\n",
       "      <th></th>\n",
       "      <th></th>\n",
       "      <th></th>\n",
       "      <th></th>\n",
       "    </tr>\n",
       "  </thead>\n",
       "  <tbody>\n",
       "    <tr>\n",
       "      <th>H_i-1</th>\n",
       "      <td>44</td>\n",
       "      <td>29</td>\n",
       "      <td>6</td>\n",
       "      <td>4</td>\n",
       "    </tr>\n",
       "  </tbody>\n",
       "</table>\n",
       "</div>"
      ]
     },
     "execution_count": 15,
     "metadata": {},
     "output_type": "execute_result"
    }
   ],
   "execution_count": 15
  },
  {
   "metadata": {
    "ExecuteTime": {
     "end_time": "2024-05-31T17:57:41.316051Z",
     "start_time": "2024-05-31T17:57:41.301512Z"
    }
   },
   "cell_type": "code",
   "source": "df[['atom_type_pos', 'height']].groupby(['atom_type_pos']).mean().sort_values('height', ascending=False).head(20)",
   "id": "c0befcb72a50cc23",
   "outputs": [
    {
     "data": {
      "text/plain": [
       "                 height\n",
       "atom_type_pos          \n",
       "HA_i-1         0.715717\n",
       "HB_i           0.646528\n",
       "HA_i           0.626319\n",
       "HB_i-1         0.445484\n",
       "H_i            0.360898\n",
       "H_i-1          0.353140\n",
       "H_i+1          0.311996\n",
       "HA_far         0.303104\n",
       "HB_far         0.273503\n",
       "HA_i+1         0.266629\n",
       "HB_i+1         0.239007\n",
       "HZ_far         0.208219\n",
       "H_far          0.172496"
      ],
      "text/html": [
       "<div>\n",
       "<style scoped>\n",
       "    .dataframe tbody tr th:only-of-type {\n",
       "        vertical-align: middle;\n",
       "    }\n",
       "\n",
       "    .dataframe tbody tr th {\n",
       "        vertical-align: top;\n",
       "    }\n",
       "\n",
       "    .dataframe thead th {\n",
       "        text-align: right;\n",
       "    }\n",
       "</style>\n",
       "<table border=\"1\" class=\"dataframe\">\n",
       "  <thead>\n",
       "    <tr style=\"text-align: right;\">\n",
       "      <th></th>\n",
       "      <th>height</th>\n",
       "    </tr>\n",
       "    <tr>\n",
       "      <th>atom_type_pos</th>\n",
       "      <th></th>\n",
       "    </tr>\n",
       "  </thead>\n",
       "  <tbody>\n",
       "    <tr>\n",
       "      <th>HA_i-1</th>\n",
       "      <td>0.715717</td>\n",
       "    </tr>\n",
       "    <tr>\n",
       "      <th>HB_i</th>\n",
       "      <td>0.646528</td>\n",
       "    </tr>\n",
       "    <tr>\n",
       "      <th>HA_i</th>\n",
       "      <td>0.626319</td>\n",
       "    </tr>\n",
       "    <tr>\n",
       "      <th>HB_i-1</th>\n",
       "      <td>0.445484</td>\n",
       "    </tr>\n",
       "    <tr>\n",
       "      <th>H_i</th>\n",
       "      <td>0.360898</td>\n",
       "    </tr>\n",
       "    <tr>\n",
       "      <th>H_i-1</th>\n",
       "      <td>0.353140</td>\n",
       "    </tr>\n",
       "    <tr>\n",
       "      <th>H_i+1</th>\n",
       "      <td>0.311996</td>\n",
       "    </tr>\n",
       "    <tr>\n",
       "      <th>HA_far</th>\n",
       "      <td>0.303104</td>\n",
       "    </tr>\n",
       "    <tr>\n",
       "      <th>HB_far</th>\n",
       "      <td>0.273503</td>\n",
       "    </tr>\n",
       "    <tr>\n",
       "      <th>HA_i+1</th>\n",
       "      <td>0.266629</td>\n",
       "    </tr>\n",
       "    <tr>\n",
       "      <th>HB_i+1</th>\n",
       "      <td>0.239007</td>\n",
       "    </tr>\n",
       "    <tr>\n",
       "      <th>HZ_far</th>\n",
       "      <td>0.208219</td>\n",
       "    </tr>\n",
       "    <tr>\n",
       "      <th>H_far</th>\n",
       "      <td>0.172496</td>\n",
       "    </tr>\n",
       "  </tbody>\n",
       "</table>\n",
       "</div>"
      ]
     },
     "execution_count": 16,
     "metadata": {},
     "output_type": "execute_result"
    }
   ],
   "execution_count": 16
  },
  {
   "metadata": {},
   "cell_type": "markdown",
   "source": "***Minimum** relative* intensities of NOEs with respect to the spin system's maximum intensity",
   "id": "57eb2ab9e545f35c"
  },
  {
   "metadata": {
    "ExecuteTime": {
     "end_time": "2024-05-31T17:57:41.345119Z",
     "start_time": "2024-05-31T17:57:41.318321Z"
    }
   },
   "cell_type": "code",
   "source": "df[['atom_type_pos', 'height']].groupby(['atom_type_pos']).min().sort_values('height', ascending=False).head(20)",
   "id": "5346acd592545648",
   "outputs": [
    {
     "data": {
      "text/plain": [
       "                 height\n",
       "atom_type_pos          \n",
       "HA_i           0.134445\n",
       "HA_i-1         0.121882\n",
       "H_i            0.083110\n",
       "HZ_far         0.036689\n",
       "HB_i-1         0.036272\n",
       "HA_i+1         0.022459\n",
       "HB_far         0.020339\n",
       "H_i+1          0.019677\n",
       "H_i-1          0.019633\n",
       "HB_i+1         0.014556\n",
       "HB_i           0.013216\n",
       "HA_far         0.006716\n",
       "H_far          0.004828"
      ],
      "text/html": [
       "<div>\n",
       "<style scoped>\n",
       "    .dataframe tbody tr th:only-of-type {\n",
       "        vertical-align: middle;\n",
       "    }\n",
       "\n",
       "    .dataframe tbody tr th {\n",
       "        vertical-align: top;\n",
       "    }\n",
       "\n",
       "    .dataframe thead th {\n",
       "        text-align: right;\n",
       "    }\n",
       "</style>\n",
       "<table border=\"1\" class=\"dataframe\">\n",
       "  <thead>\n",
       "    <tr style=\"text-align: right;\">\n",
       "      <th></th>\n",
       "      <th>height</th>\n",
       "    </tr>\n",
       "    <tr>\n",
       "      <th>atom_type_pos</th>\n",
       "      <th></th>\n",
       "    </tr>\n",
       "  </thead>\n",
       "  <tbody>\n",
       "    <tr>\n",
       "      <th>HA_i</th>\n",
       "      <td>0.134445</td>\n",
       "    </tr>\n",
       "    <tr>\n",
       "      <th>HA_i-1</th>\n",
       "      <td>0.121882</td>\n",
       "    </tr>\n",
       "    <tr>\n",
       "      <th>H_i</th>\n",
       "      <td>0.083110</td>\n",
       "    </tr>\n",
       "    <tr>\n",
       "      <th>HZ_far</th>\n",
       "      <td>0.036689</td>\n",
       "    </tr>\n",
       "    <tr>\n",
       "      <th>HB_i-1</th>\n",
       "      <td>0.036272</td>\n",
       "    </tr>\n",
       "    <tr>\n",
       "      <th>HA_i+1</th>\n",
       "      <td>0.022459</td>\n",
       "    </tr>\n",
       "    <tr>\n",
       "      <th>HB_far</th>\n",
       "      <td>0.020339</td>\n",
       "    </tr>\n",
       "    <tr>\n",
       "      <th>H_i+1</th>\n",
       "      <td>0.019677</td>\n",
       "    </tr>\n",
       "    <tr>\n",
       "      <th>H_i-1</th>\n",
       "      <td>0.019633</td>\n",
       "    </tr>\n",
       "    <tr>\n",
       "      <th>HB_i+1</th>\n",
       "      <td>0.014556</td>\n",
       "    </tr>\n",
       "    <tr>\n",
       "      <th>HB_i</th>\n",
       "      <td>0.013216</td>\n",
       "    </tr>\n",
       "    <tr>\n",
       "      <th>HA_far</th>\n",
       "      <td>0.006716</td>\n",
       "    </tr>\n",
       "    <tr>\n",
       "      <th>H_far</th>\n",
       "      <td>0.004828</td>\n",
       "    </tr>\n",
       "  </tbody>\n",
       "</table>\n",
       "</div>"
      ]
     },
     "execution_count": 17,
     "metadata": {},
     "output_type": "execute_result"
    }
   ],
   "execution_count": 17
  },
  {
   "metadata": {},
   "cell_type": "markdown",
   "source": "## Distributions",
   "id": "1f984dbd9e6676c9"
  },
  {
   "metadata": {
    "ExecuteTime": {
     "end_time": "2024-05-31T17:57:41.378908Z",
     "start_time": "2024-05-31T17:57:41.348500Z"
    }
   },
   "cell_type": "code",
   "source": [
    "df_to_plot = df.loc[df['atom_type_pos'].isin([\"H_i-1\", \"HA_i-1\", \"HA_i\"])][['res', 'height', 'atom_type_pos']]\n",
    "\n",
    "df_to_plot['atom_type_pos'] = df_to_plot['atom_type_pos'].replace(\n",
    "    {'H_i-1': '$H_{i-1}$', 'HA_i-1': '$H^A_{i-1}$', 'HA_i': '$H^A_{i}$'})\n",
    "\n",
    "df_to_plot.head()"
   ],
   "id": "4dcad45fcd8498c6",
   "outputs": [
    {
     "data": {
      "text/plain": [
       "   res    height atom_type_pos\n",
       "1   S1  0.714693     $H^A_{i}$\n",
       "5   Y2  0.609692     $H_{i-1}$\n",
       "6   Y2  1.000000   $H^A_{i-1}$\n",
       "10  Y2  0.440941     $H^A_{i}$\n",
       "16  G3  0.045911     $H_{i-1}$"
      ],
      "text/html": [
       "<div>\n",
       "<style scoped>\n",
       "    .dataframe tbody tr th:only-of-type {\n",
       "        vertical-align: middle;\n",
       "    }\n",
       "\n",
       "    .dataframe tbody tr th {\n",
       "        vertical-align: top;\n",
       "    }\n",
       "\n",
       "    .dataframe thead th {\n",
       "        text-align: right;\n",
       "    }\n",
       "</style>\n",
       "<table border=\"1\" class=\"dataframe\">\n",
       "  <thead>\n",
       "    <tr style=\"text-align: right;\">\n",
       "      <th></th>\n",
       "      <th>res</th>\n",
       "      <th>height</th>\n",
       "      <th>atom_type_pos</th>\n",
       "    </tr>\n",
       "  </thead>\n",
       "  <tbody>\n",
       "    <tr>\n",
       "      <th>1</th>\n",
       "      <td>S1</td>\n",
       "      <td>0.714693</td>\n",
       "      <td>$H^A_{i}$</td>\n",
       "    </tr>\n",
       "    <tr>\n",
       "      <th>5</th>\n",
       "      <td>Y2</td>\n",
       "      <td>0.609692</td>\n",
       "      <td>$H_{i-1}$</td>\n",
       "    </tr>\n",
       "    <tr>\n",
       "      <th>6</th>\n",
       "      <td>Y2</td>\n",
       "      <td>1.000000</td>\n",
       "      <td>$H^A_{i-1}$</td>\n",
       "    </tr>\n",
       "    <tr>\n",
       "      <th>10</th>\n",
       "      <td>Y2</td>\n",
       "      <td>0.440941</td>\n",
       "      <td>$H^A_{i}$</td>\n",
       "    </tr>\n",
       "    <tr>\n",
       "      <th>16</th>\n",
       "      <td>G3</td>\n",
       "      <td>0.045911</td>\n",
       "      <td>$H_{i-1}$</td>\n",
       "    </tr>\n",
       "  </tbody>\n",
       "</table>\n",
       "</div>"
      ]
     },
     "execution_count": 18,
     "metadata": {},
     "output_type": "execute_result"
    }
   ],
   "execution_count": 18
  },
  {
   "metadata": {
    "ExecuteTime": {
    }
   },
   "cell_type": "code",
   "source": [
    "\n",
   ],
   "outputs": [
    {
     "data": {
      "text/plain": [
      ],
     },
     "metadata": {},
     "output_type": "display_data"
    }
   ],
  },
  {
   "metadata": {},
   "cell_type": "markdown",
   "source": "Which crosspeaks are almost 0?",
   "id": "9187a4f6336934eb"
  },
  {
   "cell_type": "code",
   "outputs": [
    {
     "data": {
      "text/plain": [
       "      res    height atom_type_pos\n",
       "1726  R90  0.019633     $H_{i-1}$\n",
       "332   R23  0.040825     $H_{i-1}$\n",
       "16     G3  0.045911     $H_{i-1}$\n",
       "25     R4  0.053741     $H_{i-1}$\n",
       "1628  V86  0.061169     $H_{i-1}$\n",
       "1484  D80  0.062376     $H_{i-1}$\n",
       "1752  G92  0.075472     $H_{i-1}$"
      ],
      "text/html": [
       "<div>\n",
       "<style scoped>\n",
       "    .dataframe tbody tr th:only-of-type {\n",
       "        vertical-align: middle;\n",
       "    }\n",
       "\n",
       "    .dataframe tbody tr th {\n",
       "        vertical-align: top;\n",
       "    }\n",
       "\n",
       "    .dataframe thead th {\n",
       "        text-align: right;\n",
       "    }\n",
       "</style>\n",
       "<table border=\"1\" class=\"dataframe\">\n",
       "  <thead>\n",
       "    <tr style=\"text-align: right;\">\n",
       "      <th></th>\n",
       "      <th>res</th>\n",
       "      <th>height</th>\n",
       "      <th>atom_type_pos</th>\n",
       "    </tr>\n",
       "  </thead>\n",
       "  <tbody>\n",
       "    <tr>\n",
       "      <th>1726</th>\n",
       "      <td>R90</td>\n",
       "      <td>0.019633</td>\n",
       "      <td>$H_{i-1}$</td>\n",
       "    </tr>\n",
       "    <tr>\n",
       "      <th>332</th>\n",
       "      <td>R23</td>\n",
       "      <td>0.040825</td>\n",
       "      <td>$H_{i-1}$</td>\n",
       "    </tr>\n",
       "    <tr>\n",
       "      <th>16</th>\n",
       "      <td>G3</td>\n",
       "      <td>0.045911</td>\n",
       "      <td>$H_{i-1}$</td>\n",
       "    </tr>\n",
       "    <tr>\n",
       "      <th>25</th>\n",
       "      <td>R4</td>\n",
       "      <td>0.053741</td>\n",
       "      <td>$H_{i-1}$</td>\n",
       "    </tr>\n",
       "    <tr>\n",
       "      <th>1628</th>\n",
       "      <td>V86</td>\n",
       "      <td>0.061169</td>\n",
       "      <td>$H_{i-1}$</td>\n",
       "    </tr>\n",
       "    <tr>\n",
       "      <th>1484</th>\n",
       "      <td>D80</td>\n",
       "      <td>0.062376</td>\n",
       "      <td>$H_{i-1}$</td>\n",
       "    </tr>\n",
       "    <tr>\n",
       "      <th>1752</th>\n",
       "      <td>G92</td>\n",
       "      <td>0.075472</td>\n",
       "      <td>$H_{i-1}$</td>\n",
       "    </tr>\n",
       "  </tbody>\n",
       "</table>\n",
       "</div>"
      ]
     },
     "execution_count": 20,
     "metadata": {},
     "output_type": "execute_result"
    }
   ],
  }
 ],
 "metadata": {
  "kernelspec": {
   "display_name": "Python 3",
   "language": "python",
   "name": "python3"
  },
  "language_info": {
   "codemirror_mode": {
    "name": "ipython",
    "version": 2
   },
   "file_extension": ".py",
   "mimetype": "text/x-python",
   "name": "python",
   "nbconvert_exporter": "python",
   "pygments_lexer": "ipython2",
   "version": "2.7.6"
  }
 },
 "nbformat": 4,
 "nbformat_minor": 5
}
